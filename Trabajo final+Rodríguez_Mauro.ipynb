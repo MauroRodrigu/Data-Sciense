{
 "cells": [
  {
   "cell_type": "markdown",
   "id": "3f967867",
   "metadata": {},
   "source": [
    "# Objetivos  "
   ]
  },
  {
   "cell_type": "markdown",
   "id": "171c4a04",
   "metadata": {},
   "source": [
    "A lo largo de este proyecto vamos a trabajar con los datos de la plataforma digital de Airbnb dedicada a ofrecer servicios de alojamientos de terceros. A través de la misma, es posible que anfitriones y huéspedes pueden valorarse mutuamente y ofrecerse referencias. Teniendo en cuenta este contexto el objetivo principal del trabajo será, entonces, entrenar un algoritmo que nos permita predecir los precios de los alojamientos en Estados Unidos a partir de los datos que provee la plataforma. "
   ]
  },
  {
   "cell_type": "markdown",
   "id": "aa3eb58d",
   "metadata": {},
   "source": [
    "# Contexto"
   ]
  },
  {
   "cell_type": "markdown",
   "id": "9ebbe124",
   "metadata": {},
   "source": [
    "Obtuvimos un dataset que contiene 74111 registros de propiedades, con sus características y respectivos precios de alojamiento. Nuestro proyecto buscará generar un modelo que sea capaz de predecir los precios con precisión y que nos de algún tipo de información acerca de qué características pueden ser relevantes para explicar los resultados. \n",
    "\n",
    "Teniendo en cuenta que nuestra variable es cuantitativa, utilizaremos diferentes algoritmos de aprendizaje automático supervisados de regresión, principalmente modelos de ensamble basados en Árboles de Decisión (Random Forest, Gradient Boosting y XGBoost)."
   ]
  },
  {
   "cell_type": "markdown",
   "id": "10c5af81",
   "metadata": {},
   "source": [
    "# Hipótesis"
   ]
  },
  {
   "cell_type": "markdown",
   "id": "84b99952",
   "metadata": {},
   "source": [
    "Las preguntas que nos hacemos para abordar en este proyecto son:\n",
    "\n",
    "¿Cuáles son las variables principales que pueden ayudarnos a explicar los precios de alojamiento en Estados Unidos?\n",
    "\n",
    "En base a esta pregunta general podemos realizar las siguientes preguntas específicas:\n",
    "\n",
    "¿El tipo de habitación en alquiler influye en los precios de alquiler?\n",
    "\n",
    "¿Que impacto tienen las distintas ciudades?\n",
    "\n",
    "¿Los distintos ambientes juengan algún tipo de papel (baños, habitaciones)?\n",
    "\n",
    "¿Y los servicios particulares con los que cuenta el alojamiento (internet, tv, etc.)?\n",
    "\n",
    "A partir de estas preguntas realizamos la siguiente hipótesis:\n",
    "\n",
    "Los precios del alquiler están positivamente relacionados con el tipo de alquiler, la ciudad en donde se alquila y los distintos servicios con los que cuenta el inmueble."
   ]
  },
  {
   "cell_type": "markdown",
   "id": "a3230bb3",
   "metadata": {},
   "source": [
    "# importamos las librerías"
   ]
  },
  {
   "cell_type": "markdown",
   "id": "fc48b625",
   "metadata": {},
   "source": [
    "Vamos a importar las principales librerías a utilizar a lo largo del proyecto."
   ]
  },
  {
   "cell_type": "code",
   "execution_count": 1,
   "id": "ce6e05e8",
   "metadata": {},
   "outputs": [],
   "source": [
    "import pandas as pd\n",
    "import numpy as np\n",
    "import matplotlib.pyplot as plt\n",
    "import seaborn as sns\n",
    "from sklearn.impute import SimpleImputer, KNNImputer\n",
    "from sklearn.preprocessing import LabelEncoder\n",
    "from sklearn.model_selection import train_test_split, RandomizedSearchCV\n",
    "from sklearn.ensemble import GradientBoostingRegressor, RandomForestRegressor\n",
    "from xgboost import XGBRegressor\n",
    "from sklearn.metrics import r2_score, mean_absolute_error, mean_squared_error\n",
    "import warnings"
   ]
  },
  {
   "cell_type": "code",
   "execution_count": 2,
   "id": "f4c6c258",
   "metadata": {},
   "outputs": [],
   "source": [
    "warnings.filterwarnings('ignore')"
   ]
  },
  {
   "cell_type": "markdown",
   "id": "cbd350d7",
   "metadata": {},
   "source": [
    "# Dataset de airbnb"
   ]
  },
  {
   "cell_type": "markdown",
   "id": "8bf65fb6",
   "metadata": {},
   "source": [
    "Luego importamos el dataset."
   ]
  },
  {
   "cell_type": "code",
   "execution_count": 3,
   "id": "f9189d5d",
   "metadata": {},
   "outputs": [],
   "source": [
    "dataset = pd.read_csv('Airbnb_Data.csv')"
   ]
  },
  {
   "cell_type": "markdown",
   "id": "69194b68",
   "metadata": {},
   "source": [
    "Le damos un primer vistazo a nuestro data frame:"
   ]
  },
  {
   "cell_type": "code",
   "execution_count": 4,
   "id": "21e6b89d",
   "metadata": {},
   "outputs": [
    {
     "data": {
      "text/html": [
       "<div>\n",
       "<style scoped>\n",
       "    .dataframe tbody tr th:only-of-type {\n",
       "        vertical-align: middle;\n",
       "    }\n",
       "\n",
       "    .dataframe tbody tr th {\n",
       "        vertical-align: top;\n",
       "    }\n",
       "\n",
       "    .dataframe thead th {\n",
       "        text-align: right;\n",
       "    }\n",
       "</style>\n",
       "<table border=\"1\" class=\"dataframe\">\n",
       "  <thead>\n",
       "    <tr style=\"text-align: right;\">\n",
       "      <th></th>\n",
       "      <th>id</th>\n",
       "      <th>log_price</th>\n",
       "      <th>property_type</th>\n",
       "      <th>room_type</th>\n",
       "      <th>amenities</th>\n",
       "      <th>accommodates</th>\n",
       "      <th>bathrooms</th>\n",
       "      <th>bed_type</th>\n",
       "      <th>cancellation_policy</th>\n",
       "      <th>cleaning_fee</th>\n",
       "      <th>...</th>\n",
       "      <th>latitude</th>\n",
       "      <th>longitude</th>\n",
       "      <th>name</th>\n",
       "      <th>neighbourhood</th>\n",
       "      <th>number_of_reviews</th>\n",
       "      <th>review_scores_rating</th>\n",
       "      <th>thumbnail_url</th>\n",
       "      <th>zipcode</th>\n",
       "      <th>bedrooms</th>\n",
       "      <th>beds</th>\n",
       "    </tr>\n",
       "  </thead>\n",
       "  <tbody>\n",
       "    <tr>\n",
       "      <th>0</th>\n",
       "      <td>6901257</td>\n",
       "      <td>5.010635</td>\n",
       "      <td>Apartment</td>\n",
       "      <td>Entire home/apt</td>\n",
       "      <td>{\"Wireless Internet\",\"Air conditioning\",Kitche...</td>\n",
       "      <td>3</td>\n",
       "      <td>1.0</td>\n",
       "      <td>Real Bed</td>\n",
       "      <td>strict</td>\n",
       "      <td>True</td>\n",
       "      <td>...</td>\n",
       "      <td>40.696524</td>\n",
       "      <td>-73.991617</td>\n",
       "      <td>Beautiful brownstone 1-bedroom</td>\n",
       "      <td>Brooklyn Heights</td>\n",
       "      <td>2</td>\n",
       "      <td>100.0</td>\n",
       "      <td>https://a0.muscache.com/im/pictures/6d7cbbf7-c...</td>\n",
       "      <td>11201</td>\n",
       "      <td>1.0</td>\n",
       "      <td>1.0</td>\n",
       "    </tr>\n",
       "    <tr>\n",
       "      <th>1</th>\n",
       "      <td>6304928</td>\n",
       "      <td>5.129899</td>\n",
       "      <td>Apartment</td>\n",
       "      <td>Entire home/apt</td>\n",
       "      <td>{\"Wireless Internet\",\"Air conditioning\",Kitche...</td>\n",
       "      <td>7</td>\n",
       "      <td>1.0</td>\n",
       "      <td>Real Bed</td>\n",
       "      <td>strict</td>\n",
       "      <td>True</td>\n",
       "      <td>...</td>\n",
       "      <td>40.766115</td>\n",
       "      <td>-73.989040</td>\n",
       "      <td>Superb 3BR Apt Located Near Times Square</td>\n",
       "      <td>Hell's Kitchen</td>\n",
       "      <td>6</td>\n",
       "      <td>93.0</td>\n",
       "      <td>https://a0.muscache.com/im/pictures/348a55fe-4...</td>\n",
       "      <td>10019</td>\n",
       "      <td>3.0</td>\n",
       "      <td>3.0</td>\n",
       "    </tr>\n",
       "    <tr>\n",
       "      <th>2</th>\n",
       "      <td>7919400</td>\n",
       "      <td>4.976734</td>\n",
       "      <td>Apartment</td>\n",
       "      <td>Entire home/apt</td>\n",
       "      <td>{TV,\"Cable TV\",\"Wireless Internet\",\"Air condit...</td>\n",
       "      <td>5</td>\n",
       "      <td>1.0</td>\n",
       "      <td>Real Bed</td>\n",
       "      <td>moderate</td>\n",
       "      <td>True</td>\n",
       "      <td>...</td>\n",
       "      <td>40.808110</td>\n",
       "      <td>-73.943756</td>\n",
       "      <td>The Garden Oasis</td>\n",
       "      <td>Harlem</td>\n",
       "      <td>10</td>\n",
       "      <td>92.0</td>\n",
       "      <td>https://a0.muscache.com/im/pictures/6fae5362-9...</td>\n",
       "      <td>10027</td>\n",
       "      <td>1.0</td>\n",
       "      <td>3.0</td>\n",
       "    </tr>\n",
       "    <tr>\n",
       "      <th>3</th>\n",
       "      <td>13418779</td>\n",
       "      <td>6.620073</td>\n",
       "      <td>House</td>\n",
       "      <td>Entire home/apt</td>\n",
       "      <td>{TV,\"Cable TV\",Internet,\"Wireless Internet\",Ki...</td>\n",
       "      <td>4</td>\n",
       "      <td>1.0</td>\n",
       "      <td>Real Bed</td>\n",
       "      <td>flexible</td>\n",
       "      <td>True</td>\n",
       "      <td>...</td>\n",
       "      <td>37.772004</td>\n",
       "      <td>-122.431619</td>\n",
       "      <td>Beautiful Flat in the Heart of SF!</td>\n",
       "      <td>Lower Haight</td>\n",
       "      <td>0</td>\n",
       "      <td>NaN</td>\n",
       "      <td>https://a0.muscache.com/im/pictures/72208dad-9...</td>\n",
       "      <td>94117.0</td>\n",
       "      <td>2.0</td>\n",
       "      <td>2.0</td>\n",
       "    </tr>\n",
       "    <tr>\n",
       "      <th>4</th>\n",
       "      <td>3808709</td>\n",
       "      <td>4.744932</td>\n",
       "      <td>Apartment</td>\n",
       "      <td>Entire home/apt</td>\n",
       "      <td>{TV,Internet,\"Wireless Internet\",\"Air conditio...</td>\n",
       "      <td>2</td>\n",
       "      <td>1.0</td>\n",
       "      <td>Real Bed</td>\n",
       "      <td>moderate</td>\n",
       "      <td>True</td>\n",
       "      <td>...</td>\n",
       "      <td>38.925627</td>\n",
       "      <td>-77.034596</td>\n",
       "      <td>Great studio in midtown DC</td>\n",
       "      <td>Columbia Heights</td>\n",
       "      <td>4</td>\n",
       "      <td>40.0</td>\n",
       "      <td>NaN</td>\n",
       "      <td>20009</td>\n",
       "      <td>0.0</td>\n",
       "      <td>1.0</td>\n",
       "    </tr>\n",
       "  </tbody>\n",
       "</table>\n",
       "<p>5 rows × 29 columns</p>\n",
       "</div>"
      ],
      "text/plain": [
       "         id  log_price property_type        room_type  \\\n",
       "0   6901257   5.010635     Apartment  Entire home/apt   \n",
       "1   6304928   5.129899     Apartment  Entire home/apt   \n",
       "2   7919400   4.976734     Apartment  Entire home/apt   \n",
       "3  13418779   6.620073         House  Entire home/apt   \n",
       "4   3808709   4.744932     Apartment  Entire home/apt   \n",
       "\n",
       "                                           amenities  accommodates  bathrooms  \\\n",
       "0  {\"Wireless Internet\",\"Air conditioning\",Kitche...             3        1.0   \n",
       "1  {\"Wireless Internet\",\"Air conditioning\",Kitche...             7        1.0   \n",
       "2  {TV,\"Cable TV\",\"Wireless Internet\",\"Air condit...             5        1.0   \n",
       "3  {TV,\"Cable TV\",Internet,\"Wireless Internet\",Ki...             4        1.0   \n",
       "4  {TV,Internet,\"Wireless Internet\",\"Air conditio...             2        1.0   \n",
       "\n",
       "   bed_type cancellation_policy  cleaning_fee  ...   latitude   longitude  \\\n",
       "0  Real Bed              strict          True  ...  40.696524  -73.991617   \n",
       "1  Real Bed              strict          True  ...  40.766115  -73.989040   \n",
       "2  Real Bed            moderate          True  ...  40.808110  -73.943756   \n",
       "3  Real Bed            flexible          True  ...  37.772004 -122.431619   \n",
       "4  Real Bed            moderate          True  ...  38.925627  -77.034596   \n",
       "\n",
       "                                       name     neighbourhood  \\\n",
       "0            Beautiful brownstone 1-bedroom  Brooklyn Heights   \n",
       "1  Superb 3BR Apt Located Near Times Square    Hell's Kitchen   \n",
       "2                          The Garden Oasis            Harlem   \n",
       "3        Beautiful Flat in the Heart of SF!      Lower Haight   \n",
       "4                Great studio in midtown DC  Columbia Heights   \n",
       "\n",
       "  number_of_reviews review_scores_rating  \\\n",
       "0                 2                100.0   \n",
       "1                 6                 93.0   \n",
       "2                10                 92.0   \n",
       "3                 0                  NaN   \n",
       "4                 4                 40.0   \n",
       "\n",
       "                                       thumbnail_url  zipcode bedrooms  beds  \n",
       "0  https://a0.muscache.com/im/pictures/6d7cbbf7-c...    11201      1.0   1.0  \n",
       "1  https://a0.muscache.com/im/pictures/348a55fe-4...    10019      3.0   3.0  \n",
       "2  https://a0.muscache.com/im/pictures/6fae5362-9...    10027      1.0   3.0  \n",
       "3  https://a0.muscache.com/im/pictures/72208dad-9...  94117.0      2.0   2.0  \n",
       "4                                                NaN    20009      0.0   1.0  \n",
       "\n",
       "[5 rows x 29 columns]"
      ]
     },
     "execution_count": 4,
     "metadata": {},
     "output_type": "execute_result"
    }
   ],
   "source": [
    "dataset.head()"
   ]
  },
  {
   "cell_type": "markdown",
   "id": "fa149e1d",
   "metadata": {},
   "source": [
    "Aquí tenemos un diccionario que nos permite observar que variables contiene el mismo:"
   ]
  },
  {
   "cell_type": "markdown",
   "id": "89294612",
   "metadata": {},
   "source": [
    "id = identificador\n",
    "\n",
    "log_price = precio del alojamiento\n",
    "\n",
    "property_type = tipo de propiedad\n",
    "\n",
    "room_type = tipo de habitación\n",
    "\n",
    "amenities = comodidades ofrecidas\n",
    "\n",
    "accomodates = alojamiento para\n",
    "\n",
    "bathrooms = cantidad de baños\n",
    "\n",
    "bed_type = tipo de cama\n",
    "\n",
    "cancellation_policy = política de cancelamiento\n",
    "\n",
    "cleaning_fee = tarifa de limpieza\n",
    "\n",
    "city = ciudad\n",
    "\n",
    "description = descripción\n",
    "\n",
    "first_review = primera revisión\n",
    "\n",
    "host_has_profile_pic = el host tiene perfil\n",
    "\n",
    "host_identity_verified = identidad del host verificada\n",
    "\n",
    "host_response_rate = tasa de respuesta del host\n",
    "\n",
    "host_since = anfitrion desde\n",
    "\n",
    "instant_bookable = reserva instantánea\n",
    "\n",
    "last_review = última revisión\n",
    "\n",
    "latitude = latitud\n",
    "\n",
    "longitude = longitud\n",
    "\n",
    "name = nombre\n",
    "\n",
    "neighbourhood = vecindario\n",
    "\n",
    "number_of_reviews = número de reseñas\n",
    "\n",
    "review_scores_rating = clasificación de puntajes recibidos\n",
    "\n",
    "thumbnail_url = url\n",
    "\n",
    "zipcode = código postal\n",
    "\n",
    "bedrooms = dormitorios\n",
    "\n",
    "beds = número de camas"
   ]
  },
  {
   "cell_type": "markdown",
   "id": "8a8ab4bf",
   "metadata": {},
   "source": [
    "------"
   ]
  },
  {
   "cell_type": "markdown",
   "id": "1ee13d71",
   "metadata": {},
   "source": [
    "Ahora veamos las dimensiones del dataset:"
   ]
  },
  {
   "cell_type": "code",
   "execution_count": 5,
   "id": "bd01ef32",
   "metadata": {},
   "outputs": [
    {
     "data": {
      "text/plain": [
       "(74111, 29)"
      ]
     },
     "execution_count": 5,
     "metadata": {},
     "output_type": "execute_result"
    }
   ],
   "source": [
    "dataset.shape"
   ]
  },
  {
   "cell_type": "markdown",
   "id": "5b94a210",
   "metadata": {},
   "source": [
    "Tenemos 74111 registros y 29 variables."
   ]
  },
  {
   "cell_type": "markdown",
   "id": "c4e7b33b",
   "metadata": {},
   "source": [
    "También podemos ver un poco de información sobre cada variable:"
   ]
  },
  {
   "cell_type": "code",
   "execution_count": 6,
   "id": "152c92c6",
   "metadata": {},
   "outputs": [
    {
     "name": "stdout",
     "output_type": "stream",
     "text": [
      "<class 'pandas.core.frame.DataFrame'>\n",
      "RangeIndex: 74111 entries, 0 to 74110\n",
      "Data columns (total 29 columns):\n",
      " #   Column                  Non-Null Count  Dtype  \n",
      "---  ------                  --------------  -----  \n",
      " 0   id                      74111 non-null  int64  \n",
      " 1   log_price               74111 non-null  float64\n",
      " 2   property_type           74111 non-null  object \n",
      " 3   room_type               74111 non-null  object \n",
      " 4   amenities               74111 non-null  object \n",
      " 5   accommodates            74111 non-null  int64  \n",
      " 6   bathrooms               73911 non-null  float64\n",
      " 7   bed_type                74111 non-null  object \n",
      " 8   cancellation_policy     74111 non-null  object \n",
      " 9   cleaning_fee            74111 non-null  bool   \n",
      " 10  city                    74111 non-null  object \n",
      " 11  description             74111 non-null  object \n",
      " 12  first_review            58247 non-null  object \n",
      " 13  host_has_profile_pic    73923 non-null  object \n",
      " 14  host_identity_verified  73923 non-null  object \n",
      " 15  host_response_rate      55812 non-null  object \n",
      " 16  host_since              73923 non-null  object \n",
      " 17  instant_bookable        74111 non-null  object \n",
      " 18  last_review             58284 non-null  object \n",
      " 19  latitude                74111 non-null  float64\n",
      " 20  longitude               74111 non-null  float64\n",
      " 21  name                    74111 non-null  object \n",
      " 22  neighbourhood           67239 non-null  object \n",
      " 23  number_of_reviews       74111 non-null  int64  \n",
      " 24  review_scores_rating    57389 non-null  float64\n",
      " 25  thumbnail_url           65895 non-null  object \n",
      " 26  zipcode                 73145 non-null  object \n",
      " 27  bedrooms                74020 non-null  float64\n",
      " 28  beds                    73980 non-null  float64\n",
      "dtypes: bool(1), float64(7), int64(3), object(18)\n",
      "memory usage: 15.9+ MB\n"
     ]
    }
   ],
   "source": [
    "dataset.info()"
   ]
  },
  {
   "cell_type": "markdown",
   "id": "626a0bd2",
   "metadata": {},
   "source": [
    "Y podemos obtener un primer acercamiento a las variables numéricas a partir de estadística descriptiva:"
   ]
  },
  {
   "cell_type": "code",
   "execution_count": 7,
   "id": "4edfa4f7",
   "metadata": {},
   "outputs": [
    {
     "data": {
      "text/html": [
       "<div>\n",
       "<style scoped>\n",
       "    .dataframe tbody tr th:only-of-type {\n",
       "        vertical-align: middle;\n",
       "    }\n",
       "\n",
       "    .dataframe tbody tr th {\n",
       "        vertical-align: top;\n",
       "    }\n",
       "\n",
       "    .dataframe thead th {\n",
       "        text-align: right;\n",
       "    }\n",
       "</style>\n",
       "<table border=\"1\" class=\"dataframe\">\n",
       "  <thead>\n",
       "    <tr style=\"text-align: right;\">\n",
       "      <th></th>\n",
       "      <th>id</th>\n",
       "      <th>log_price</th>\n",
       "      <th>accommodates</th>\n",
       "      <th>bathrooms</th>\n",
       "      <th>latitude</th>\n",
       "      <th>longitude</th>\n",
       "      <th>number_of_reviews</th>\n",
       "      <th>review_scores_rating</th>\n",
       "      <th>bedrooms</th>\n",
       "      <th>beds</th>\n",
       "    </tr>\n",
       "  </thead>\n",
       "  <tbody>\n",
       "    <tr>\n",
       "      <th>count</th>\n",
       "      <td>7.411100e+04</td>\n",
       "      <td>74111.000000</td>\n",
       "      <td>74111.000000</td>\n",
       "      <td>73911.000000</td>\n",
       "      <td>74111.000000</td>\n",
       "      <td>74111.000000</td>\n",
       "      <td>74111.000000</td>\n",
       "      <td>57389.000000</td>\n",
       "      <td>74020.000000</td>\n",
       "      <td>73980.000000</td>\n",
       "    </tr>\n",
       "    <tr>\n",
       "      <th>mean</th>\n",
       "      <td>1.126662e+07</td>\n",
       "      <td>4.782069</td>\n",
       "      <td>3.155146</td>\n",
       "      <td>1.235263</td>\n",
       "      <td>38.445958</td>\n",
       "      <td>-92.397525</td>\n",
       "      <td>20.900568</td>\n",
       "      <td>94.067365</td>\n",
       "      <td>1.265793</td>\n",
       "      <td>1.710868</td>\n",
       "    </tr>\n",
       "    <tr>\n",
       "      <th>std</th>\n",
       "      <td>6.081735e+06</td>\n",
       "      <td>0.717394</td>\n",
       "      <td>2.153589</td>\n",
       "      <td>0.582044</td>\n",
       "      <td>3.080167</td>\n",
       "      <td>21.705322</td>\n",
       "      <td>37.828641</td>\n",
       "      <td>7.836556</td>\n",
       "      <td>0.852143</td>\n",
       "      <td>1.254142</td>\n",
       "    </tr>\n",
       "    <tr>\n",
       "      <th>min</th>\n",
       "      <td>3.440000e+02</td>\n",
       "      <td>0.000000</td>\n",
       "      <td>1.000000</td>\n",
       "      <td>0.000000</td>\n",
       "      <td>33.338905</td>\n",
       "      <td>-122.511500</td>\n",
       "      <td>0.000000</td>\n",
       "      <td>20.000000</td>\n",
       "      <td>0.000000</td>\n",
       "      <td>0.000000</td>\n",
       "    </tr>\n",
       "    <tr>\n",
       "      <th>25%</th>\n",
       "      <td>6.261964e+06</td>\n",
       "      <td>4.317488</td>\n",
       "      <td>2.000000</td>\n",
       "      <td>1.000000</td>\n",
       "      <td>34.127908</td>\n",
       "      <td>-118.342374</td>\n",
       "      <td>1.000000</td>\n",
       "      <td>92.000000</td>\n",
       "      <td>1.000000</td>\n",
       "      <td>1.000000</td>\n",
       "    </tr>\n",
       "    <tr>\n",
       "      <th>50%</th>\n",
       "      <td>1.225415e+07</td>\n",
       "      <td>4.709530</td>\n",
       "      <td>2.000000</td>\n",
       "      <td>1.000000</td>\n",
       "      <td>40.662138</td>\n",
       "      <td>-76.996965</td>\n",
       "      <td>6.000000</td>\n",
       "      <td>96.000000</td>\n",
       "      <td>1.000000</td>\n",
       "      <td>1.000000</td>\n",
       "    </tr>\n",
       "    <tr>\n",
       "      <th>75%</th>\n",
       "      <td>1.640226e+07</td>\n",
       "      <td>5.220356</td>\n",
       "      <td>4.000000</td>\n",
       "      <td>1.000000</td>\n",
       "      <td>40.746096</td>\n",
       "      <td>-73.954660</td>\n",
       "      <td>23.000000</td>\n",
       "      <td>100.000000</td>\n",
       "      <td>1.000000</td>\n",
       "      <td>2.000000</td>\n",
       "    </tr>\n",
       "    <tr>\n",
       "      <th>max</th>\n",
       "      <td>2.123090e+07</td>\n",
       "      <td>7.600402</td>\n",
       "      <td>16.000000</td>\n",
       "      <td>8.000000</td>\n",
       "      <td>42.390437</td>\n",
       "      <td>-70.985047</td>\n",
       "      <td>605.000000</td>\n",
       "      <td>100.000000</td>\n",
       "      <td>10.000000</td>\n",
       "      <td>18.000000</td>\n",
       "    </tr>\n",
       "  </tbody>\n",
       "</table>\n",
       "</div>"
      ],
      "text/plain": [
       "                 id     log_price  accommodates     bathrooms      latitude  \\\n",
       "count  7.411100e+04  74111.000000  74111.000000  73911.000000  74111.000000   \n",
       "mean   1.126662e+07      4.782069      3.155146      1.235263     38.445958   \n",
       "std    6.081735e+06      0.717394      2.153589      0.582044      3.080167   \n",
       "min    3.440000e+02      0.000000      1.000000      0.000000     33.338905   \n",
       "25%    6.261964e+06      4.317488      2.000000      1.000000     34.127908   \n",
       "50%    1.225415e+07      4.709530      2.000000      1.000000     40.662138   \n",
       "75%    1.640226e+07      5.220356      4.000000      1.000000     40.746096   \n",
       "max    2.123090e+07      7.600402     16.000000      8.000000     42.390437   \n",
       "\n",
       "          longitude  number_of_reviews  review_scores_rating      bedrooms  \\\n",
       "count  74111.000000       74111.000000          57389.000000  74020.000000   \n",
       "mean     -92.397525          20.900568             94.067365      1.265793   \n",
       "std       21.705322          37.828641              7.836556      0.852143   \n",
       "min     -122.511500           0.000000             20.000000      0.000000   \n",
       "25%     -118.342374           1.000000             92.000000      1.000000   \n",
       "50%      -76.996965           6.000000             96.000000      1.000000   \n",
       "75%      -73.954660          23.000000            100.000000      1.000000   \n",
       "max      -70.985047         605.000000            100.000000     10.000000   \n",
       "\n",
       "               beds  \n",
       "count  73980.000000  \n",
       "mean       1.710868  \n",
       "std        1.254142  \n",
       "min        0.000000  \n",
       "25%        1.000000  \n",
       "50%        1.000000  \n",
       "75%        2.000000  \n",
       "max       18.000000  "
      ]
     },
     "execution_count": 7,
     "metadata": {},
     "output_type": "execute_result"
    }
   ],
   "source": [
    "dataset.describe()"
   ]
  },
  {
   "cell_type": "markdown",
   "id": "2174a322",
   "metadata": {},
   "source": [
    "Existen algunas variables que no nos aportan información relevante. La mayoría son códigos de identificación, nombres o fechas (ingreso y último posteo en la plataforma)."
   ]
  },
  {
   "cell_type": "code",
   "execution_count": 8,
   "id": "61d5cbca",
   "metadata": {},
   "outputs": [],
   "source": [
    "columnas_eliminar = ['id', 'latitude', 'longitude', 'name', 'description', 'zipcode', 'thumbnail_url',\n",
    "                     'last_review', 'first_review', 'host_since']"
   ]
  },
  {
   "cell_type": "code",
   "execution_count": 9,
   "id": "91ab152b",
   "metadata": {},
   "outputs": [],
   "source": [
    "dataset.drop(columnas_eliminar, axis = 1, inplace = True)"
   ]
  },
  {
   "cell_type": "markdown",
   "id": "2a933c6a",
   "metadata": {},
   "source": [
    "# EDA"
   ]
  },
  {
   "cell_type": "markdown",
   "id": "5f7e77bd",
   "metadata": {},
   "source": [
    "## Análisis univariado"
   ]
  },
  {
   "cell_type": "markdown",
   "id": "69cc7a31",
   "metadata": {},
   "source": [
    "En primer término, vamos a visualizar la distribución de las variables numéricas."
   ]
  },
  {
   "cell_type": "code",
   "execution_count": 10,
   "id": "a25d3bb2",
   "metadata": {},
   "outputs": [
    {
     "data": {
      "image/png": "[encoded data removed]",
      "text/plain": [
       "<Figure size 1000x700 with 9 Axes>"
      ]
     },
     "metadata": {},
     "output_type": "display_data"
    }
   ],
   "source": [
    "dataset.hist(figsize = (10,7))\n",
    "plt.suptitle('Distribución de las variables numéricas')\n",
    "plt.show()"
   ]
  },
  {
   "cell_type": "markdown",
   "id": "b098ca60",
   "metadata": {},
   "source": [
    "Dentro de este análisis nos llama la atención la distribución de la variable respuesta precio (log_price):"
   ]
  },
  {
   "cell_type": "code",
   "execution_count": 11,
   "id": "e6972944",
   "metadata": {},
   "outputs": [
    {
     "data": {
      "image/png": "[encoded data removed]",
      "text/plain": [
       "<Figure size 640x480 with 1 Axes>"
      ]
     },
     "metadata": {},
     "output_type": "display_data"
    }
   ],
   "source": [
    "ax = dataset['log_price'].plot(kind = 'hist', title = 'Precio de los alojamientos')\n",
    "ax.set_xlabel('precios')\n",
    "ax.set_ylabel('frecuencia')\n",
    "plt.show()"
   ]
  },
  {
   "cell_type": "markdown",
   "id": "72ae8a04",
   "metadata": {},
   "source": [
    "La media (4.78) y la mediana (4.70) se encuentran muy cerca. El dato curioso parece ser que existen algunos alojamientos con valor \\\\$0. Veamos cuantos son:"
   ]
  },
  {
   "cell_type": "code",
   "execution_count": 12,
   "id": "59a7c013",
   "metadata": {},
   "outputs": [
    {
     "data": {
      "text/plain": [
       "1"
      ]
     },
     "execution_count": 12,
     "metadata": {},
     "output_type": "execute_result"
    }
   ],
   "source": [
    "len(dataset[dataset['log_price'] == 0])"
   ]
  },
  {
   "cell_type": "markdown",
   "id": "ab7756a2",
   "metadata": {},
   "source": [
    "Consiste en un solo caso. Veamos como influye en la distribución de la variable, en caso de que lo eliminemos:"
   ]
  },
  {
   "cell_type": "code",
   "execution_count": 13,
   "id": "57cffe6d",
   "metadata": {},
   "outputs": [
    {
     "data": {
      "text/plain": [
       "Int64Index([11632], dtype='int64')"
      ]
     },
     "execution_count": 13,
     "metadata": {},
     "output_type": "execute_result"
    }
   ],
   "source": [
    "dataset[dataset['log_price'] == 0].index"
   ]
  },
  {
   "cell_type": "code",
   "execution_count": 14,
   "id": "0efc2c72",
   "metadata": {},
   "outputs": [],
   "source": [
    "dataset.drop(11632, axis = 0, inplace = True)"
   ]
  },
  {
   "cell_type": "markdown",
   "id": "35d3c609",
   "metadata": {},
   "source": [
    "Realizamos nuevamente el histograma:"
   ]
  },
  {
   "cell_type": "code",
   "execution_count": 15,
   "id": "f17783a3",
   "metadata": {},
   "outputs": [
    {
     "data": {
      "image/png": "[encoded data removed]",
      "text/plain": [
       "<Figure size 640x480 with 1 Axes>"
      ]
     },
     "metadata": {},
     "output_type": "display_data"
    }
   ],
   "source": [
    "ax = dataset['log_price'].plot(kind = 'hist', title = 'Precio de los alojamientos')\n",
    "ax.set_xlabel('precios')\n",
    "ax.set_ylabel('frecuencia')\n",
    "plt.show()"
   ]
  },
  {
   "cell_type": "markdown",
   "id": "6acc05f0",
   "metadata": {},
   "source": [
    "La variable precio ahora tiene una distribución que se asemeja a una normal."
   ]
  },
  {
   "cell_type": "markdown",
   "id": "6844e438",
   "metadata": {},
   "source": [
    "También podemos analizarla mediante un gráfico de cajas:"
   ]
  },
  {
   "cell_type": "code",
   "execution_count": 16,
   "id": "4cdf80e1",
   "metadata": {},
   "outputs": [
    {
     "data": {
      "image/png": "[encoded data removed]",
      "text/plain": [
       "<Figure size 640x480 with 1 Axes>"
      ]
     },
     "metadata": {},
     "output_type": "display_data"
    }
   ],
   "source": [
    "dataset['log_price'].plot(kind = 'box', title = 'Precio de los alojamientos')\n",
    "plt.show()"
   ]
  },
  {
   "cell_type": "markdown",
   "id": "5a26ccb2",
   "metadata": {},
   "source": [
    "Existen outliers, es decir, alojamientos con precios muy altos y muy bajos."
   ]
  },
  {
   "cell_type": "markdown",
   "id": "07e3b597",
   "metadata": {},
   "source": [
    "Para variables categóricas vamos a apelar a crear tablas de frecuencias:"
   ]
  },
  {
   "cell_type": "code",
   "execution_count": 17,
   "id": "da4275b6",
   "metadata": {},
   "outputs": [],
   "source": [
    "cat = dataset.select_dtypes(['bool', 'object'])"
   ]
  },
  {
   "cell_type": "code",
   "execution_count": 18,
   "id": "f315d090",
   "metadata": {},
   "outputs": [],
   "source": [
    "cat.drop('amenities', axis = 1, inplace = True)"
   ]
  },
  {
   "cell_type": "code",
   "execution_count": 19,
   "id": "ff95a9bd",
   "metadata": {
    "scrolled": false
   },
   "outputs": [
    {
     "name": "stdout",
     "output_type": "stream",
     "text": [
      "property_type:\n",
      "Apartment             49003\n",
      "House                 16511\n",
      "Condominium            2657\n",
      "Townhouse              1692\n",
      "Loft                   1244\n",
      "Other                   607\n",
      "Guesthouse              498\n",
      "Bed & Breakfast         462\n",
      "Bungalow                366\n",
      "Villa                   179\n",
      "Dorm                    142\n",
      "Guest suite             123\n",
      "Camper/RV                94\n",
      "Timeshare                77\n",
      "Cabin                    72\n",
      "In-law                   71\n",
      "Hostel                   70\n",
      "Boutique hotel           69\n",
      "Boat                     65\n",
      "Serviced apartment       21\n",
      "Tent                     18\n",
      "Castle                   13\n",
      "Vacation home            11\n",
      "Yurt                      9\n",
      "Hut                       8\n",
      "Treehouse                 7\n",
      "Chalet                    6\n",
      "Earth House               4\n",
      "Tipi                      3\n",
      "Train                     2\n",
      "Cave                      2\n",
      "Casa particular           1\n",
      "Parking Space             1\n",
      "Lighthouse                1\n",
      "Island                    1\n",
      "Name: property_type, dtype: int64\n",
      "-----\n",
      "  \n",
      "room_type:\n",
      "Entire home/apt    41310\n",
      "Private room       30638\n",
      "Shared room         2162\n",
      "Name: room_type, dtype: int64\n",
      "-----\n",
      "  \n",
      "bed_type:\n",
      "Real Bed         72027\n",
      "Futon              753\n",
      "Pull-out Sofa      585\n",
      "Airbed             477\n",
      "Couch              268\n",
      "Name: bed_type, dtype: int64\n",
      "-----\n",
      "  \n",
      "cancellation_policy:\n",
      "strict             32373\n",
      "flexible           22545\n",
      "moderate           19063\n",
      "super_strict_30      112\n",
      "super_strict_60       17\n",
      "Name: cancellation_policy, dtype: int64\n",
      "-----\n",
      "  \n",
      "cleaning_fee:\n",
      "True     54402\n",
      "False    19708\n",
      "Name: cleaning_fee, dtype: int64\n",
      "-----\n",
      "  \n",
      "city:\n",
      "NYC        32348\n",
      "LA         22453\n",
      "SF          6434\n",
      "DC          5688\n",
      "Chicago     3719\n",
      "Boston      3468\n",
      "Name: city, dtype: int64\n",
      "-----\n",
      "  \n",
      "host_has_profile_pic:\n",
      "t    73696\n",
      "f      226\n",
      "Name: host_has_profile_pic, dtype: int64\n",
      "-----\n",
      "  \n",
      "host_identity_verified:\n",
      "t    49748\n",
      "f    24174\n",
      "Name: host_identity_verified, dtype: int64\n",
      "-----\n",
      "  \n",
      "host_response_rate:\n",
      "100%    43253\n",
      "90%      2277\n",
      "80%      1113\n",
      "0%        883\n",
      "50%       611\n",
      "        ...  \n",
      "39%         1\n",
      "15%         1\n",
      "31%         1\n",
      "21%         1\n",
      "6%          1\n",
      "Name: host_response_rate, Length: 80, dtype: int64\n",
      "-----\n",
      "  \n",
      "instant_bookable:\n",
      "f    54660\n",
      "t    19450\n",
      "Name: instant_bookable, dtype: int64\n",
      "-----\n",
      "  \n",
      "neighbourhood:\n",
      "Williamsburg          2862\n",
      "Bedford-Stuyvesant    2166\n",
      "Bushwick              1601\n",
      "Upper West Side       1396\n",
      "Mid-Wilshire          1392\n",
      "                      ... \n",
      "Mill Basin               1\n",
      "Mt. Vernon Square        1\n",
      "Chevy Chase, MD          1\n",
      "Clearing                 1\n",
      "Grant City               1\n",
      "Name: neighbourhood, Length: 619, dtype: int64\n",
      "-----\n",
      "  \n"
     ]
    }
   ],
   "source": [
    "for columna in cat.columns:\n",
    "    print(columna+':')\n",
    "    print(dataset[columna].value_counts())\n",
    "    print('-----')\n",
    "    print('  ')"
   ]
  },
  {
   "cell_type": "markdown",
   "id": "52cb853c",
   "metadata": {},
   "source": [
    "Como podemos ver, la tasa de respuesta del host debería ser numérica:"
   ]
  },
  {
   "cell_type": "code",
   "execution_count": 20,
   "id": "178b4fea",
   "metadata": {},
   "outputs": [],
   "source": [
    "dataset['host_response_rate'] = dataset['host_response_rate'].str.replace('%', '')"
   ]
  },
  {
   "cell_type": "code",
   "execution_count": 21,
   "id": "74c2d9d1",
   "metadata": {},
   "outputs": [],
   "source": [
    "dataset['host_response_rate'] = dataset['host_response_rate'].astype('float')"
   ]
  },
  {
   "cell_type": "markdown",
   "id": "616097bc",
   "metadata": {},
   "source": [
    "## Análisis bivariado"
   ]
  },
  {
   "cell_type": "markdown",
   "id": "8aaca86a",
   "metadata": {},
   "source": [
    "Ahora veamos si existe alguna correlación entre variables:"
   ]
  },
  {
   "cell_type": "code",
   "execution_count": 22,
   "id": "e449675f",
   "metadata": {},
   "outputs": [],
   "source": [
    "num = dataset.select_dtypes([int, float])"
   ]
  },
  {
   "cell_type": "markdown",
   "id": "8ac9761a",
   "metadata": {},
   "source": [
    "En variables numéricas utilizaremos una matriz de correlación:"
   ]
  },
  {
   "cell_type": "code",
   "execution_count": 23,
   "id": "85a4762d",
   "metadata": {},
   "outputs": [
    {
     "data": {
      "text/html": [
       "<div>\n",
       "<style scoped>\n",
       "    .dataframe tbody tr th:only-of-type {\n",
       "        vertical-align: middle;\n",
       "    }\n",
       "\n",
       "    .dataframe tbody tr th {\n",
       "        vertical-align: top;\n",
       "    }\n",
       "\n",
       "    .dataframe thead th {\n",
       "        text-align: right;\n",
       "    }\n",
       "</style>\n",
       "<table border=\"1\" class=\"dataframe\">\n",
       "  <thead>\n",
       "    <tr style=\"text-align: right;\">\n",
       "      <th></th>\n",
       "      <th>log_price</th>\n",
       "      <th>accommodates</th>\n",
       "      <th>bathrooms</th>\n",
       "      <th>host_response_rate</th>\n",
       "      <th>number_of_reviews</th>\n",
       "      <th>review_scores_rating</th>\n",
       "      <th>bedrooms</th>\n",
       "      <th>beds</th>\n",
       "    </tr>\n",
       "  </thead>\n",
       "  <tbody>\n",
       "    <tr>\n",
       "      <th>log_price</th>\n",
       "      <td>1.000000</td>\n",
       "      <td>0.567658</td>\n",
       "      <td>0.355490</td>\n",
       "      <td>-0.006738</td>\n",
       "      <td>-0.032522</td>\n",
       "      <td>0.091148</td>\n",
       "      <td>0.473327</td>\n",
       "      <td>0.442236</td>\n",
       "    </tr>\n",
       "    <tr>\n",
       "      <th>accommodates</th>\n",
       "      <td>0.567658</td>\n",
       "      <td>1.000000</td>\n",
       "      <td>0.505631</td>\n",
       "      <td>0.047043</td>\n",
       "      <td>0.041958</td>\n",
       "      <td>-0.017144</td>\n",
       "      <td>0.709259</td>\n",
       "      <td>0.810800</td>\n",
       "    </tr>\n",
       "    <tr>\n",
       "      <th>bathrooms</th>\n",
       "      <td>0.355490</td>\n",
       "      <td>0.505631</td>\n",
       "      <td>1.000000</td>\n",
       "      <td>0.006537</td>\n",
       "      <td>-0.041384</td>\n",
       "      <td>0.010531</td>\n",
       "      <td>0.589935</td>\n",
       "      <td>0.525590</td>\n",
       "    </tr>\n",
       "    <tr>\n",
       "      <th>host_response_rate</th>\n",
       "      <td>-0.006738</td>\n",
       "      <td>0.047043</td>\n",
       "      <td>0.006537</td>\n",
       "      <td>1.000000</td>\n",
       "      <td>0.123069</td>\n",
       "      <td>0.094403</td>\n",
       "      <td>0.020569</td>\n",
       "      <td>0.041521</td>\n",
       "    </tr>\n",
       "    <tr>\n",
       "      <th>number_of_reviews</th>\n",
       "      <td>-0.032522</td>\n",
       "      <td>0.041958</td>\n",
       "      <td>-0.041384</td>\n",
       "      <td>0.123069</td>\n",
       "      <td>1.000000</td>\n",
       "      <td>0.011699</td>\n",
       "      <td>-0.035151</td>\n",
       "      <td>0.031105</td>\n",
       "    </tr>\n",
       "    <tr>\n",
       "      <th>review_scores_rating</th>\n",
       "      <td>0.091148</td>\n",
       "      <td>-0.017144</td>\n",
       "      <td>0.010531</td>\n",
       "      <td>0.094403</td>\n",
       "      <td>0.011699</td>\n",
       "      <td>1.000000</td>\n",
       "      <td>0.011138</td>\n",
       "      <td>-0.027339</td>\n",
       "    </tr>\n",
       "    <tr>\n",
       "      <th>bedrooms</th>\n",
       "      <td>0.473327</td>\n",
       "      <td>0.709259</td>\n",
       "      <td>0.589935</td>\n",
       "      <td>0.020569</td>\n",
       "      <td>-0.035151</td>\n",
       "      <td>0.011138</td>\n",
       "      <td>1.000000</td>\n",
       "      <td>0.709415</td>\n",
       "    </tr>\n",
       "    <tr>\n",
       "      <th>beds</th>\n",
       "      <td>0.442236</td>\n",
       "      <td>0.810800</td>\n",
       "      <td>0.525590</td>\n",
       "      <td>0.041521</td>\n",
       "      <td>0.031105</td>\n",
       "      <td>-0.027339</td>\n",
       "      <td>0.709415</td>\n",
       "      <td>1.000000</td>\n",
       "    </tr>\n",
       "  </tbody>\n",
       "</table>\n",
       "</div>"
      ],
      "text/plain": [
       "                      log_price  accommodates  bathrooms  host_response_rate  \\\n",
       "log_price              1.000000      0.567658   0.355490           -0.006738   \n",
       "accommodates           0.567658      1.000000   0.505631            0.047043   \n",
       "bathrooms              0.355490      0.505631   1.000000            0.006537   \n",
       "host_response_rate    -0.006738      0.047043   0.006537            1.000000   \n",
       "number_of_reviews     -0.032522      0.041958  -0.041384            0.123069   \n",
       "review_scores_rating   0.091148     -0.017144   0.010531            0.094403   \n",
       "bedrooms               0.473327      0.709259   0.589935            0.020569   \n",
       "beds                   0.442236      0.810800   0.525590            0.041521   \n",
       "\n",
       "                      number_of_reviews  review_scores_rating  bedrooms  \\\n",
       "log_price                     -0.032522              0.091148  0.473327   \n",
       "accommodates                   0.041958             -0.017144  0.709259   \n",
       "bathrooms                     -0.041384              0.010531  0.589935   \n",
       "host_response_rate             0.123069              0.094403  0.020569   \n",
       "number_of_reviews              1.000000              0.011699 -0.035151   \n",
       "review_scores_rating           0.011699              1.000000  0.011138   \n",
       "bedrooms                      -0.035151              0.011138  1.000000   \n",
       "beds                           0.031105             -0.027339  0.709415   \n",
       "\n",
       "                          beds  \n",
       "log_price             0.442236  \n",
       "accommodates          0.810800  \n",
       "bathrooms             0.525590  \n",
       "host_response_rate    0.041521  \n",
       "number_of_reviews     0.031105  \n",
       "review_scores_rating -0.027339  \n",
       "bedrooms              0.709415  \n",
       "beds                  1.000000  "
      ]
     },
     "execution_count": 23,
     "metadata": {},
     "output_type": "execute_result"
    }
   ],
   "source": [
    "num.corr()"
   ]
  },
  {
   "cell_type": "markdown",
   "id": "304985db",
   "metadata": {},
   "source": [
    "También podemos visualizar esto mediante una matriz de dispersión:"
   ]
  },
  {
   "cell_type": "code",
   "execution_count": 24,
   "id": "fafb11d0",
   "metadata": {},
   "outputs": [
    {
     "data": {
      "image/png": "[encoded data removed]",
      "text/plain": [
       "<Figure size 900x700 with 25 Axes>"
      ]
     },
     "metadata": {},
     "output_type": "display_data"
    }
   ],
   "source": [
    "pd.plotting.scatter_matrix(num[['log_price','accommodates', 'bathrooms', 'bedrooms', 'beds']], figsize = (9,7), diagonal = None)\n",
    "plt.show()"
   ]
  },
  {
   "cell_type": "markdown",
   "id": "86ff5375",
   "metadata": {},
   "source": [
    "Si bien las correlaciones no parecen ser fuertes, podemos ver algunos patrones lineales positivos principalmente entre el precio, la cantidad de baños, camas y cantidad de habitaciones."
   ]
  },
  {
   "cell_type": "markdown",
   "id": "eb01caac",
   "metadata": {},
   "source": [
    "Para visualizar relaciones con variables categóricas vamos a utilizar gráficos de cajas:"
   ]
  },
  {
   "cell_type": "code",
   "execution_count": 24,
   "id": "8d8198af",
   "metadata": {},
   "outputs": [
    {
     "data": {
      "image/png": "[encoded data removed]",
      "text/plain": [
       "<Figure size 640x480 with 1 Axes>"
      ]
     },
     "metadata": {},
     "output_type": "display_data"
    }
   ],
   "source": [
    "ax = sns.boxplot(x = 'room_type', y= 'log_price', data = dataset)\n",
    "ax.set_title('precio por tipo de habitación')\n",
    "ax.set_ylabel('precio')\n",
    "ax.set_xlabel('tipo de habitación')\n",
    "\n",
    "plt.show()"
   ]
  },
  {
   "cell_type": "markdown",
   "id": "6d73a577",
   "metadata": {},
   "source": [
    "Parece haber algún tipo de relación entre el tipo de alquiler y el precio. Aquellos lugares donde se alquila toda la casa (entire home) son más caros que aquellos en donde se alquila una habitación. Por su parte, las habitaciones privadas (private room) parecen ser un poco más caras que las habitaciones compartidas (shared room)."
   ]
  },
  {
   "cell_type": "markdown",
   "id": "362d763a",
   "metadata": {},
   "source": [
    "Ahora veamos por tipo de cama:"
   ]
  },
  {
   "cell_type": "code",
   "execution_count": 25,
   "id": "d480ae6d",
   "metadata": {},
   "outputs": [
    {
     "data": {
      "image/png": "[encoded data removed]",
      "text/plain": [
       "<Figure size 640x480 with 1 Axes>"
      ]
     },
     "metadata": {},
     "output_type": "display_data"
    }
   ],
   "source": [
    "ax = sns.boxplot(x = 'bed_type', y= 'log_price', data = dataset)\n",
    "ax.set_title('precio por tipo de cama')\n",
    "ax.set_ylabel('precio')\n",
    "ax.set_xlabel('tipo de cama')\n",
    "\n",
    "plt.show()"
   ]
  },
  {
   "cell_type": "markdown",
   "id": "1c948d94",
   "metadata": {},
   "source": [
    "La cama real parece sobresalir o ser más cara que otro tipo de modalidades."
   ]
  },
  {
   "cell_type": "markdown",
   "id": "d8946457",
   "metadata": {},
   "source": [
    "Veamos el rol de la tarifa de limpieza."
   ]
  },
  {
   "cell_type": "code",
   "execution_count": 26,
   "id": "a24ca3b6",
   "metadata": {},
   "outputs": [
    {
     "data": {
      "image/png": "[encoded data removed]",
      "text/plain": [
       "<Figure size 640x480 with 1 Axes>"
      ]
     },
     "metadata": {},
     "output_type": "display_data"
    }
   ],
   "source": [
    "ax = sns.boxplot(x = 'cleaning_fee', y= 'log_price', data = dataset)\n",
    "ax.set_title('precio según si existe tarifa de limpieza')\n",
    "ax.set_ylabel('precio')\n",
    "ax.set_xlabel('tarifa de limpieza')\n",
    "\n",
    "plt.show()"
   ]
  },
  {
   "cell_type": "markdown",
   "id": "b71d77d9",
   "metadata": {},
   "source": [
    "Parece que esta variable no incide mucho en el precio de los host. Parece haber una pequeña diferencia donde la tarifa eleva un poco el precio."
   ]
  },
  {
   "cell_type": "markdown",
   "id": "ab7d0416",
   "metadata": {},
   "source": [
    "Por otra parte, podemos ver si existe alguna diferencia entre ciudades."
   ]
  },
  {
   "cell_type": "code",
   "execution_count": 27,
   "id": "7b926c43",
   "metadata": {},
   "outputs": [
    {
     "data": {
      "image/png": "[encoded data removed]",
      "text/plain": [
       "<Figure size 640x480 with 1 Axes>"
      ]
     },
     "metadata": {},
     "output_type": "display_data"
    }
   ],
   "source": [
    "ax = sns.boxplot(x = 'city', y= 'log_price', data = dataset)\n",
    "ax.set_title('precio según ciudad')\n",
    "ax.set_ylabel('precio')\n",
    "ax.set_xlabel('ciudades')\n",
    "\n",
    "plt.show()"
   ]
  },
  {
   "cell_type": "markdown",
   "id": "e426529a",
   "metadata": {},
   "source": [
    "Existen algunas ciudades un poco más caras que las demás (SF, DC, Boston)."
   ]
  },
  {
   "cell_type": "markdown",
   "id": "ce75d430",
   "metadata": {},
   "source": [
    "Veamos si la política de cancelación puede tener algún efecto:"
   ]
  },
  {
   "cell_type": "code",
   "execution_count": 28,
   "id": "5a2094ea",
   "metadata": {},
   "outputs": [
    {
     "data": {
      "image/png": "[encoded data removed]",
      "text/plain": [
       "<Figure size 800x800 with 1 Axes>"
      ]
     },
     "metadata": {},
     "output_type": "display_data"
    }
   ],
   "source": [
    "fig, ax = plt.subplots(figsize = (8,8))\n",
    "\n",
    "sns.boxplot(x = 'cancellation_policy', y= 'log_price', data = dataset, ax= ax)\n",
    "ax.set_title('precio según tipo de cancelación')\n",
    "ax.set_ylabel('precio')\n",
    "ax.set_xlabel('tipo de cancelación')\n",
    "\n",
    "plt.show()"
   ]
  },
  {
   "cell_type": "markdown",
   "id": "980484ce",
   "metadata": {},
   "source": [
    "Las cancelaciones super estrictas suelen ser más caras que las otras tres modalidades (estricta, moderada y flexible)."
   ]
  },
  {
   "cell_type": "markdown",
   "id": "1481bd29",
   "metadata": {},
   "source": [
    "# Data wrangling"
   ]
  },
  {
   "cell_type": "markdown",
   "id": "e5b8c43c",
   "metadata": {},
   "source": [
    "Antes de poder modelar nuestro dataset tenemos que realizar un preprocesamiento de datos."
   ]
  },
  {
   "cell_type": "markdown",
   "id": "b6454e1a",
   "metadata": {},
   "source": [
    "## eliminar duplicados"
   ]
  },
  {
   "cell_type": "markdown",
   "id": "8d44c806",
   "metadata": {},
   "source": [
    "Lo primero que debemos controlar es que no exista información redundante entre nuestros datos. Veamos si existen duplicados:"
   ]
  },
  {
   "cell_type": "code",
   "execution_count": 29,
   "id": "df2d50be",
   "metadata": {},
   "outputs": [
    {
     "data": {
      "text/plain": [
       "48"
      ]
     },
     "execution_count": 29,
     "metadata": {},
     "output_type": "execute_result"
    }
   ],
   "source": [
    "dataset.duplicated().sum()"
   ]
  },
  {
   "cell_type": "markdown",
   "id": "2446a01a",
   "metadata": {},
   "source": [
    "Son 48 datos identicos. Procedemos a borrarlos."
   ]
  },
  {
   "cell_type": "code",
   "execution_count": 30,
   "id": "cbb49221",
   "metadata": {},
   "outputs": [],
   "source": [
    "dataset.drop_duplicates(inplace = True)"
   ]
  },
  {
   "cell_type": "markdown",
   "id": "335687da",
   "metadata": {},
   "source": [
    "Veamos el resultado:"
   ]
  },
  {
   "cell_type": "code",
   "execution_count": 31,
   "id": "78146e4c",
   "metadata": {},
   "outputs": [
    {
     "data": {
      "text/plain": [
       "0"
      ]
     },
     "execution_count": 31,
     "metadata": {},
     "output_type": "execute_result"
    }
   ],
   "source": [
    "dataset.duplicated().sum()"
   ]
  },
  {
   "cell_type": "markdown",
   "id": "3c693ba6",
   "metadata": {},
   "source": [
    "## Imputar datos nulos"
   ]
  },
  {
   "cell_type": "markdown",
   "id": "12eff927",
   "metadata": {},
   "source": [
    "Otro problema que tenemos que tratar de nuestro data frame son los datos nulos. En este caso vamos a imputarlos. Primero veamos que variables poseen datos nulos:"
   ]
  },
  {
   "cell_type": "code",
   "execution_count": 32,
   "id": "43c2a795",
   "metadata": {},
   "outputs": [
    {
     "data": {
      "text/plain": [
       "log_price                     0\n",
       "property_type                 0\n",
       "room_type                     0\n",
       "amenities                     0\n",
       "accommodates                  0\n",
       "bathrooms                   199\n",
       "bed_type                      0\n",
       "cancellation_policy           0\n",
       "cleaning_fee                  0\n",
       "city                          0\n",
       "host_has_profile_pic        188\n",
       "host_identity_verified      188\n",
       "host_response_rate        18290\n",
       "instant_bookable              0\n",
       "neighbourhood              6860\n",
       "number_of_reviews             0\n",
       "review_scores_rating      16681\n",
       "bedrooms                     91\n",
       "beds                        131\n",
       "dtype: int64"
      ]
     },
     "execution_count": 32,
     "metadata": {},
     "output_type": "execute_result"
    }
   ],
   "source": [
    "dataset.isna().sum()"
   ]
  },
  {
   "cell_type": "markdown",
   "id": "8ccd3478",
   "metadata": {},
   "source": [
    "En los casos de las variables baños, piezas y cantidad de camas, vimos en el EDA que tienen una distribución asimétrica. Para imputar estos casos deberíamos utilizar la mediana."
   ]
  },
  {
   "cell_type": "code",
   "execution_count": 33,
   "id": "2b1423d4",
   "metadata": {},
   "outputs": [
    {
     "data": {
      "text/plain": [
       "1.0"
      ]
     },
     "execution_count": 33,
     "metadata": {},
     "output_type": "execute_result"
    }
   ],
   "source": [
    "dataset['bathrooms'].median()"
   ]
  },
  {
   "cell_type": "code",
   "execution_count": 34,
   "id": "69efec5d",
   "metadata": {},
   "outputs": [
    {
     "data": {
      "text/plain": [
       "1.0"
      ]
     },
     "execution_count": 34,
     "metadata": {},
     "output_type": "execute_result"
    }
   ],
   "source": [
    "dataset['bedrooms'].median()"
   ]
  },
  {
   "cell_type": "code",
   "execution_count": 35,
   "id": "3efe5f01",
   "metadata": {},
   "outputs": [
    {
     "data": {
      "text/plain": [
       "1.0"
      ]
     },
     "execution_count": 35,
     "metadata": {},
     "output_type": "execute_result"
    }
   ],
   "source": [
    "dataset['beds'].median()"
   ]
  },
  {
   "cell_type": "markdown",
   "id": "e0544f93",
   "metadata": {},
   "source": [
    "Para la tres variables la mediana es 1."
   ]
  },
  {
   "cell_type": "code",
   "execution_count": 36,
   "id": "d3ee1865",
   "metadata": {},
   "outputs": [],
   "source": [
    "imputer = SimpleImputer(missing_values= np.nan, strategy= 'median')"
   ]
  },
  {
   "cell_type": "code",
   "execution_count": 37,
   "id": "18bce7dc",
   "metadata": {},
   "outputs": [],
   "source": [
    "dataset[['bathrooms', 'bedrooms','beds']] = imputer.fit_transform(dataset[['bathrooms', 'bedrooms', 'beds']])"
   ]
  },
  {
   "cell_type": "markdown",
   "id": "b3402e75",
   "metadata": {},
   "source": [
    "Para imputar las siguientes variables categóricas vamos a utilizar la moda a partir de la siguiente función:"
   ]
  },
  {
   "cell_type": "code",
   "execution_count": 38,
   "id": "e9d13835",
   "metadata": {},
   "outputs": [],
   "source": [
    "imp_cat = SimpleImputer(missing_values= np.nan, strategy = 'most_frequent')"
   ]
  },
  {
   "cell_type": "code",
   "execution_count": 39,
   "id": "fc4ecef1",
   "metadata": {},
   "outputs": [],
   "source": [
    "dataset[['host_has_profile_pic', 'host_identity_verified']] = imp_cat.fit_transform(dataset[['host_has_profile_pic', 'host_identity_verified']])"
   ]
  },
  {
   "cell_type": "markdown",
   "id": "cbc0c635",
   "metadata": {},
   "source": [
    "Las variables de respuesta del host y la puntuación del rating tienen más de datos faltantes (alrededor del 22% del total). Es por ello que para imputar vamos a utilizar el algoritmo de vecinos más cercanos (KNN)."
   ]
  },
  {
   "cell_type": "code",
   "execution_count": 40,
   "id": "a3d815cd",
   "metadata": {},
   "outputs": [],
   "source": [
    "imp_knn = KNNImputer(n_neighbors=5)"
   ]
  },
  {
   "cell_type": "code",
   "execution_count": 41,
   "id": "7661f5e6",
   "metadata": {},
   "outputs": [],
   "source": [
    "dataset[['host_response_rate', 'review_scores_rating']] = imp_knn.fit_transform(dataset[['host_response_rate', 'review_scores_rating']])"
   ]
  },
  {
   "cell_type": "markdown",
   "id": "abd918cc",
   "metadata": {},
   "source": [
    "La variable vecindario es problemática ya que no solo tiene una buena cantidad de datos faltantes, sino también porque tiene 619 categorías (vecindarios). Es posible que esta variable agregue ruido a nuestro modelo, por ello hemos decidido eliminarla."
   ]
  },
  {
   "cell_type": "code",
   "execution_count": 42,
   "id": "32bba8b3",
   "metadata": {},
   "outputs": [],
   "source": [
    "dataset.drop('neighbourhood', axis = 1, inplace = True)"
   ]
  },
  {
   "cell_type": "code",
   "execution_count": 43,
   "id": "6c5b6b29",
   "metadata": {},
   "outputs": [
    {
     "data": {
      "text/plain": [
       "log_price                 0\n",
       "property_type             0\n",
       "room_type                 0\n",
       "amenities                 0\n",
       "accommodates              0\n",
       "bathrooms                 0\n",
       "bed_type                  0\n",
       "cancellation_policy       0\n",
       "cleaning_fee              0\n",
       "city                      0\n",
       "host_has_profile_pic      0\n",
       "host_identity_verified    0\n",
       "host_response_rate        0\n",
       "instant_bookable          0\n",
       "number_of_reviews         0\n",
       "review_scores_rating      0\n",
       "bedrooms                  0\n",
       "beds                      0\n",
       "dtype: int64"
      ]
     },
     "execution_count": 43,
     "metadata": {},
     "output_type": "execute_result"
    }
   ],
   "source": [
    "dataset.isna().sum()"
   ]
  },
  {
   "cell_type": "markdown",
   "id": "5b83c718",
   "metadata": {},
   "source": [
    "## Tratamiento de outliers"
   ]
  },
  {
   "cell_type": "markdown",
   "id": "c4f8f96c",
   "metadata": {},
   "source": [
    "Antes de tratar los casos atípicos, vamos a subdividir nuestro dataset según el tipo de variable:"
   ]
  },
  {
   "cell_type": "code",
   "execution_count": 44,
   "id": "ed5c36db",
   "metadata": {},
   "outputs": [],
   "source": [
    "num = dataset.select_dtypes(['int', 'float'])\n",
    "cat = dataset.select_dtypes(['object', 'bool'])"
   ]
  },
  {
   "cell_type": "markdown",
   "id": "3d444cfb",
   "metadata": {},
   "source": [
    "Vamos a utilizar el método IQR para detectar los datos atípicos:"
   ]
  },
  {
   "cell_type": "code",
   "execution_count": 45,
   "id": "02e6b424",
   "metadata": {},
   "outputs": [],
   "source": [
    "def IQR(variable):\n",
    "    q1 = np.percentile(variable,25)\n",
    "    q3 = np.percentile(variable,75)\n",
    "    iqr = q3-q1\n",
    "    upper = q3+1.5*iqr\n",
    "    lower = q1-1.5*iqr\n",
    "    indices = list(variable[(variable > upper) | (variable < lower)].index)\n",
    "\n",
    "    print(f'La variable {variable.name} posee {len(indices)} outliers. Un {round(len(indices)/len(variable)*100,2)}% del total.')\n",
    "    return indices"
   ]
  },
  {
   "cell_type": "markdown",
   "id": "241aff85",
   "metadata": {},
   "source": [
    "Aplicamos la función:"
   ]
  },
  {
   "cell_type": "code",
   "execution_count": 46,
   "id": "237b56b8",
   "metadata": {},
   "outputs": [
    {
     "name": "stdout",
     "output_type": "stream",
     "text": [
      "La variable log_price posee 1530 outliers. Un 2.07% del total.\n",
      "La variable accommodates posee 3599 outliers. Un 4.86% del total.\n",
      "La variable bathrooms posee 15795 outliers. Un 21.33% del total.\n",
      "La variable host_response_rate posee 6348 outliers. Un 8.57% del total.\n",
      "La variable number_of_reviews posee 8203 outliers. Un 11.08% del total.\n",
      "La variable review_scores_rating posee 4058 outliers. Un 5.48% del total.\n",
      "La variable bedrooms posee 24230 outliers. Un 32.72% del total.\n",
      "La variable beds posee 5680 outliers. Un 7.67% del total.\n"
     ]
    }
   ],
   "source": [
    "outliers = dict()\n",
    "\n",
    "for i in num.columns:\n",
    "    outliers[i] = IQR(num[i])"
   ]
  },
  {
   "cell_type": "markdown",
   "id": "a99f9e0c",
   "metadata": {},
   "source": [
    "Muchas de las variables con outliers tienen el mismo valor en la gran mayoría de los casos. Por ejemplo, los cuartiles nos revelan que los alquileres suelen tener un solo baño. Solo unos pocos casos tienen más de uno."
   ]
  },
  {
   "cell_type": "code",
   "execution_count": 47,
   "id": "f9873fc8",
   "metadata": {},
   "outputs": [
    {
     "data": {
      "text/html": [
       "<div>\n",
       "<style scoped>\n",
       "    .dataframe tbody tr th:only-of-type {\n",
       "        vertical-align: middle;\n",
       "    }\n",
       "\n",
       "    .dataframe tbody tr th {\n",
       "        vertical-align: top;\n",
       "    }\n",
       "\n",
       "    .dataframe thead th {\n",
       "        text-align: right;\n",
       "    }\n",
       "</style>\n",
       "<table border=\"1\" class=\"dataframe\">\n",
       "  <thead>\n",
       "    <tr style=\"text-align: right;\">\n",
       "      <th></th>\n",
       "      <th>log_price</th>\n",
       "      <th>accommodates</th>\n",
       "      <th>bathrooms</th>\n",
       "      <th>host_response_rate</th>\n",
       "      <th>number_of_reviews</th>\n",
       "      <th>review_scores_rating</th>\n",
       "      <th>bedrooms</th>\n",
       "      <th>beds</th>\n",
       "    </tr>\n",
       "  </thead>\n",
       "  <tbody>\n",
       "    <tr>\n",
       "      <th>count</th>\n",
       "      <td>74062.000000</td>\n",
       "      <td>74062.000000</td>\n",
       "      <td>74062.000000</td>\n",
       "      <td>74062.000000</td>\n",
       "      <td>74062.000000</td>\n",
       "      <td>74062.000000</td>\n",
       "      <td>74062.000000</td>\n",
       "      <td>74062.000000</td>\n",
       "    </tr>\n",
       "    <tr>\n",
       "      <th>mean</th>\n",
       "      <td>4.782182</td>\n",
       "      <td>3.154735</td>\n",
       "      <td>1.234445</td>\n",
       "      <td>94.628763</td>\n",
       "      <td>20.914072</td>\n",
       "      <td>93.901292</td>\n",
       "      <td>1.265507</td>\n",
       "      <td>1.709554</td>\n",
       "    </tr>\n",
       "    <tr>\n",
       "      <th>std</th>\n",
       "      <td>0.716906</td>\n",
       "      <td>2.152472</td>\n",
       "      <td>0.581080</td>\n",
       "      <td>14.255555</td>\n",
       "      <td>37.837493</td>\n",
       "      <td>6.947732</td>\n",
       "      <td>0.851730</td>\n",
       "      <td>1.252864</td>\n",
       "    </tr>\n",
       "    <tr>\n",
       "      <th>min</th>\n",
       "      <td>1.609438</td>\n",
       "      <td>1.000000</td>\n",
       "      <td>0.000000</td>\n",
       "      <td>0.000000</td>\n",
       "      <td>0.000000</td>\n",
       "      <td>20.000000</td>\n",
       "      <td>0.000000</td>\n",
       "      <td>0.000000</td>\n",
       "    </tr>\n",
       "    <tr>\n",
       "      <th>25%</th>\n",
       "      <td>4.317488</td>\n",
       "      <td>2.000000</td>\n",
       "      <td>1.000000</td>\n",
       "      <td>94.353152</td>\n",
       "      <td>1.000000</td>\n",
       "      <td>92.200000</td>\n",
       "      <td>1.000000</td>\n",
       "      <td>1.000000</td>\n",
       "    </tr>\n",
       "    <tr>\n",
       "      <th>50%</th>\n",
       "      <td>4.709530</td>\n",
       "      <td>2.000000</td>\n",
       "      <td>1.000000</td>\n",
       "      <td>100.000000</td>\n",
       "      <td>6.000000</td>\n",
       "      <td>94.067758</td>\n",
       "      <td>1.000000</td>\n",
       "      <td>1.000000</td>\n",
       "    </tr>\n",
       "    <tr>\n",
       "      <th>75%</th>\n",
       "      <td>5.220356</td>\n",
       "      <td>4.000000</td>\n",
       "      <td>1.000000</td>\n",
       "      <td>100.000000</td>\n",
       "      <td>23.000000</td>\n",
       "      <td>99.000000</td>\n",
       "      <td>1.000000</td>\n",
       "      <td>2.000000</td>\n",
       "    </tr>\n",
       "    <tr>\n",
       "      <th>max</th>\n",
       "      <td>7.600402</td>\n",
       "      <td>16.000000</td>\n",
       "      <td>8.000000</td>\n",
       "      <td>100.000000</td>\n",
       "      <td>605.000000</td>\n",
       "      <td>100.000000</td>\n",
       "      <td>10.000000</td>\n",
       "      <td>18.000000</td>\n",
       "    </tr>\n",
       "  </tbody>\n",
       "</table>\n",
       "</div>"
      ],
      "text/plain": [
       "          log_price  accommodates     bathrooms  host_response_rate  \\\n",
       "count  74062.000000  74062.000000  74062.000000        74062.000000   \n",
       "mean       4.782182      3.154735      1.234445           94.628763   \n",
       "std        0.716906      2.152472      0.581080           14.255555   \n",
       "min        1.609438      1.000000      0.000000            0.000000   \n",
       "25%        4.317488      2.000000      1.000000           94.353152   \n",
       "50%        4.709530      2.000000      1.000000          100.000000   \n",
       "75%        5.220356      4.000000      1.000000          100.000000   \n",
       "max        7.600402     16.000000      8.000000          100.000000   \n",
       "\n",
       "       number_of_reviews  review_scores_rating      bedrooms          beds  \n",
       "count       74062.000000          74062.000000  74062.000000  74062.000000  \n",
       "mean           20.914072             93.901292      1.265507      1.709554  \n",
       "std            37.837493              6.947732      0.851730      1.252864  \n",
       "min             0.000000             20.000000      0.000000      0.000000  \n",
       "25%             1.000000             92.200000      1.000000      1.000000  \n",
       "50%             6.000000             94.067758      1.000000      1.000000  \n",
       "75%            23.000000             99.000000      1.000000      2.000000  \n",
       "max           605.000000            100.000000     10.000000     18.000000  "
      ]
     },
     "execution_count": 47,
     "metadata": {},
     "output_type": "execute_result"
    }
   ],
   "source": [
    "dataset.describe()"
   ]
  },
  {
   "cell_type": "markdown",
   "id": "ca37a27e",
   "metadata": {},
   "source": [
    "Los outliers quedan almacenados en el diccionario. De todos modos, nos los trataremos por el momento dado que los modelos basados en árboles suelen ser bastante robustos frente a estos casos."
   ]
  },
  {
   "cell_type": "markdown",
   "id": "2af8bac9",
   "metadata": {},
   "source": [
    "# Feature Engineering"
   ]
  },
  {
   "cell_type": "markdown",
   "id": "d7303abf",
   "metadata": {},
   "source": [
    "Ahora nos toca transformar variables. Principalmente vamos a encodear las variables categóricas."
   ]
  },
  {
   "cell_type": "markdown",
   "id": "ac091baa",
   "metadata": {},
   "source": [
    "## Encoding"
   ]
  },
  {
   "cell_type": "markdown",
   "id": "b812d139",
   "metadata": {},
   "source": [
    "La variable más compleja de tratar es amenities, dado que contiene varias categorías en un formato tipo cadena de texto de la siguiente manera: "
   ]
  },
  {
   "cell_type": "code",
   "execution_count": 48,
   "id": "7749d90f",
   "metadata": {},
   "outputs": [
    {
     "data": {
      "text/plain": [
       "0    {\"Wireless Internet\",\"Air conditioning\",Kitche...\n",
       "1    {\"Wireless Internet\",\"Air conditioning\",Kitche...\n",
       "2    {TV,\"Cable TV\",\"Wireless Internet\",\"Air condit...\n",
       "3    {TV,\"Cable TV\",Internet,\"Wireless Internet\",Ki...\n",
       "4    {TV,Internet,\"Wireless Internet\",\"Air conditio...\n",
       "Name: amenities, dtype: object"
      ]
     },
     "execution_count": 48,
     "metadata": {},
     "output_type": "execute_result"
    }
   ],
   "source": [
    "cat['amenities'].head()"
   ]
  },
  {
   "cell_type": "markdown",
   "id": "7971a52d",
   "metadata": {},
   "source": [
    "Antes de encodear tenemos que hacerle algún tipo de limpieza a la misma."
   ]
  },
  {
   "cell_type": "code",
   "execution_count": 49,
   "id": "950b1082",
   "metadata": {},
   "outputs": [],
   "source": [
    "cat['amenities'] = cat['amenities'].str.replace(\"{\", \"\").str.replace(\"}\", \"\").str.replace('\"','').str.replace(\"'\", \"\")"
   ]
  },
  {
   "cell_type": "code",
   "execution_count": 50,
   "id": "101acaa4",
   "metadata": {},
   "outputs": [
    {
     "data": {
      "text/plain": [
       "0    Wireless Internet,Air conditioning,Kitchen,Hea...\n",
       "1    Wireless Internet,Air conditioning,Kitchen,Hea...\n",
       "2    TV,Cable TV,Wireless Internet,Air conditioning...\n",
       "3    TV,Cable TV,Internet,Wireless Internet,Kitchen...\n",
       "4    TV,Internet,Wireless Internet,Air conditioning...\n",
       "Name: amenities, dtype: object"
      ]
     },
     "execution_count": 50,
     "metadata": {},
     "output_type": "execute_result"
    }
   ],
   "source": [
    "cat['amenities'].head()"
   ]
  },
  {
   "cell_type": "markdown",
   "id": "37d6bfb7",
   "metadata": {},
   "source": [
    "Ahora transformamos el texto de cada registro en una lista:"
   ]
  },
  {
   "cell_type": "code",
   "execution_count": 51,
   "id": "1cc1286b",
   "metadata": {},
   "outputs": [],
   "source": [
    "cat['amenities'] = cat['amenities'].str.split(',')"
   ]
  },
  {
   "cell_type": "code",
   "execution_count": 52,
   "id": "99b9dcad",
   "metadata": {},
   "outputs": [
    {
     "data": {
      "text/plain": [
       "0    [Wireless Internet, Air conditioning, Kitchen,...\n",
       "1    [Wireless Internet, Air conditioning, Kitchen,...\n",
       "2    [TV, Cable TV, Wireless Internet, Air conditio...\n",
       "3    [TV, Cable TV, Internet, Wireless Internet, Ki...\n",
       "4    [TV, Internet, Wireless Internet, Air conditio...\n",
       "Name: amenities, dtype: object"
      ]
     },
     "execution_count": 52,
     "metadata": {},
     "output_type": "execute_result"
    }
   ],
   "source": [
    "cat['amenities'].head()"
   ]
  },
  {
   "cell_type": "markdown",
   "id": "bdc2100f",
   "metadata": {},
   "source": [
    "Vamos a unificar todas las categorías en una sola lista para ver cuantas son:"
   ]
  },
  {
   "cell_type": "code",
   "execution_count": 53,
   "id": "880b478e",
   "metadata": {},
   "outputs": [],
   "source": [
    "categorias = []\n",
    "\n",
    "for categ in cat['amenities']:\n",
    "    categorias.extend(categ)"
   ]
  },
  {
   "cell_type": "code",
   "execution_count": 54,
   "id": "ff5cc30c",
   "metadata": {},
   "outputs": [],
   "source": [
    "categorias = pd.Series(categorias).value_counts()"
   ]
  },
  {
   "cell_type": "code",
   "execution_count": 55,
   "id": "3c3086a2",
   "metadata": {},
   "outputs": [
    {
     "data": {
      "text/plain": [
       "Wireless Internet            71222\n",
       "Kitchen                      67485\n",
       "Heating                      67032\n",
       "Essentials                   63966\n",
       "Smoke detector               61689\n",
       "Air conditioning             55173\n",
       "TV                           52424\n",
       "Shampoo                      49438\n",
       "Hangers                      49137\n",
       "Carbon monoxide detector     47154\n",
       "Internet                     44623\n",
       "Laptop friendly workspace    43669\n",
       "Hair dryer                   43297\n",
       "Washer                       43132\n",
       "Dryer                        42675\n",
       "dtype: int64"
      ]
     },
     "execution_count": 55,
     "metadata": {},
     "output_type": "execute_result"
    }
   ],
   "source": [
    "categorias.head(15)"
   ]
  },
  {
   "cell_type": "code",
   "execution_count": 56,
   "id": "4ee044bd",
   "metadata": {},
   "outputs": [
    {
     "data": {
      "text/plain": [
       "131"
      ]
     },
     "execution_count": 56,
     "metadata": {},
     "output_type": "execute_result"
    }
   ],
   "source": [
    "len(categorias)"
   ]
  },
  {
   "cell_type": "markdown",
   "id": "5a8feef4",
   "metadata": {},
   "source": [
    "Son 131 categorías en total. Vamos a quedarnos con las 15 más frecuentes:"
   ]
  },
  {
   "cell_type": "code",
   "execution_count": 57,
   "id": "9cdb1204",
   "metadata": {},
   "outputs": [
    {
     "data": {
      "text/plain": [
       "Index(['Wireless Internet', 'Kitchen', 'Heating', 'Essentials',\n",
       "       'Smoke detector', 'Air conditioning', 'TV', 'Shampoo', 'Hangers',\n",
       "       'Carbon monoxide detector', 'Internet', 'Laptop friendly workspace',\n",
       "       'Hair dryer', 'Washer', 'Dryer'],\n",
       "      dtype='object')"
      ]
     },
     "execution_count": 57,
     "metadata": {},
     "output_type": "execute_result"
    }
   ],
   "source": [
    "lista = categorias.head(15).index\n",
    "\n",
    "lista"
   ]
  },
  {
   "cell_type": "markdown",
   "id": "084c9c62",
   "metadata": {},
   "source": [
    "Y encodeamos de la siguiente manera:"
   ]
  },
  {
   "cell_type": "code",
   "execution_count": 58,
   "id": "be5965e6",
   "metadata": {},
   "outputs": [],
   "source": [
    "cat_enc = pd.DataFrame()\n",
    "\n",
    "for amen in lista:\n",
    "    cat_enc['amenities_' + amen] = cat['amenities'].apply(lambda x: 1 if amen in x else 0)"
   ]
  },
  {
   "cell_type": "code",
   "execution_count": 59,
   "id": "be5453b8",
   "metadata": {},
   "outputs": [
    {
     "data": {
      "text/html": [
       "<div>\n",
       "<style scoped>\n",
       "    .dataframe tbody tr th:only-of-type {\n",
       "        vertical-align: middle;\n",
       "    }\n",
       "\n",
       "    .dataframe tbody tr th {\n",
       "        vertical-align: top;\n",
       "    }\n",
       "\n",
       "    .dataframe thead th {\n",
       "        text-align: right;\n",
       "    }\n",
       "</style>\n",
       "<table border=\"1\" class=\"dataframe\">\n",
       "  <thead>\n",
       "    <tr style=\"text-align: right;\">\n",
       "      <th></th>\n",
       "      <th>amenities_Wireless Internet</th>\n",
       "      <th>amenities_Kitchen</th>\n",
       "      <th>amenities_Heating</th>\n",
       "      <th>amenities_Essentials</th>\n",
       "      <th>amenities_Smoke detector</th>\n",
       "      <th>amenities_Air conditioning</th>\n",
       "      <th>amenities_TV</th>\n",
       "      <th>amenities_Shampoo</th>\n",
       "      <th>amenities_Hangers</th>\n",
       "      <th>amenities_Carbon monoxide detector</th>\n",
       "      <th>amenities_Internet</th>\n",
       "      <th>amenities_Laptop friendly workspace</th>\n",
       "      <th>amenities_Hair dryer</th>\n",
       "      <th>amenities_Washer</th>\n",
       "      <th>amenities_Dryer</th>\n",
       "    </tr>\n",
       "  </thead>\n",
       "  <tbody>\n",
       "    <tr>\n",
       "      <th>0</th>\n",
       "      <td>1</td>\n",
       "      <td>1</td>\n",
       "      <td>1</td>\n",
       "      <td>1</td>\n",
       "      <td>0</td>\n",
       "      <td>1</td>\n",
       "      <td>0</td>\n",
       "      <td>0</td>\n",
       "      <td>0</td>\n",
       "      <td>0</td>\n",
       "      <td>0</td>\n",
       "      <td>0</td>\n",
       "      <td>1</td>\n",
       "      <td>0</td>\n",
       "      <td>0</td>\n",
       "    </tr>\n",
       "    <tr>\n",
       "      <th>1</th>\n",
       "      <td>1</td>\n",
       "      <td>1</td>\n",
       "      <td>1</td>\n",
       "      <td>1</td>\n",
       "      <td>1</td>\n",
       "      <td>1</td>\n",
       "      <td>0</td>\n",
       "      <td>1</td>\n",
       "      <td>1</td>\n",
       "      <td>0</td>\n",
       "      <td>0</td>\n",
       "      <td>0</td>\n",
       "      <td>1</td>\n",
       "      <td>1</td>\n",
       "      <td>1</td>\n",
       "    </tr>\n",
       "    <tr>\n",
       "      <th>2</th>\n",
       "      <td>1</td>\n",
       "      <td>1</td>\n",
       "      <td>1</td>\n",
       "      <td>1</td>\n",
       "      <td>1</td>\n",
       "      <td>1</td>\n",
       "      <td>1</td>\n",
       "      <td>1</td>\n",
       "      <td>1</td>\n",
       "      <td>1</td>\n",
       "      <td>0</td>\n",
       "      <td>1</td>\n",
       "      <td>1</td>\n",
       "      <td>0</td>\n",
       "      <td>0</td>\n",
       "    </tr>\n",
       "    <tr>\n",
       "      <th>3</th>\n",
       "      <td>1</td>\n",
       "      <td>1</td>\n",
       "      <td>1</td>\n",
       "      <td>1</td>\n",
       "      <td>1</td>\n",
       "      <td>0</td>\n",
       "      <td>1</td>\n",
       "      <td>0</td>\n",
       "      <td>0</td>\n",
       "      <td>1</td>\n",
       "      <td>1</td>\n",
       "      <td>0</td>\n",
       "      <td>0</td>\n",
       "      <td>1</td>\n",
       "      <td>1</td>\n",
       "    </tr>\n",
       "    <tr>\n",
       "      <th>4</th>\n",
       "      <td>1</td>\n",
       "      <td>1</td>\n",
       "      <td>1</td>\n",
       "      <td>1</td>\n",
       "      <td>1</td>\n",
       "      <td>1</td>\n",
       "      <td>1</td>\n",
       "      <td>1</td>\n",
       "      <td>0</td>\n",
       "      <td>1</td>\n",
       "      <td>1</td>\n",
       "      <td>0</td>\n",
       "      <td>0</td>\n",
       "      <td>0</td>\n",
       "      <td>0</td>\n",
       "    </tr>\n",
       "  </tbody>\n",
       "</table>\n",
       "</div>"
      ],
      "text/plain": [
       "   amenities_Wireless Internet  amenities_Kitchen  amenities_Heating  \\\n",
       "0                            1                  1                  1   \n",
       "1                            1                  1                  1   \n",
       "2                            1                  1                  1   \n",
       "3                            1                  1                  1   \n",
       "4                            1                  1                  1   \n",
       "\n",
       "   amenities_Essentials  amenities_Smoke detector  amenities_Air conditioning  \\\n",
       "0                     1                         0                           1   \n",
       "1                     1                         1                           1   \n",
       "2                     1                         1                           1   \n",
       "3                     1                         1                           0   \n",
       "4                     1                         1                           1   \n",
       "\n",
       "   amenities_TV  amenities_Shampoo  amenities_Hangers  \\\n",
       "0             0                  0                  0   \n",
       "1             0                  1                  1   \n",
       "2             1                  1                  1   \n",
       "3             1                  0                  0   \n",
       "4             1                  1                  0   \n",
       "\n",
       "   amenities_Carbon monoxide detector  amenities_Internet  \\\n",
       "0                                   0                   0   \n",
       "1                                   0                   0   \n",
       "2                                   1                   0   \n",
       "3                                   1                   1   \n",
       "4                                   1                   1   \n",
       "\n",
       "   amenities_Laptop friendly workspace  amenities_Hair dryer  \\\n",
       "0                                    0                     1   \n",
       "1                                    0                     1   \n",
       "2                                    1                     1   \n",
       "3                                    0                     0   \n",
       "4                                    0                     0   \n",
       "\n",
       "   amenities_Washer  amenities_Dryer  \n",
       "0                 0                0  \n",
       "1                 1                1  \n",
       "2                 0                0  \n",
       "3                 1                1  \n",
       "4                 0                0  "
      ]
     },
     "execution_count": 59,
     "metadata": {},
     "output_type": "execute_result"
    }
   ],
   "source": [
    "cat_enc.head()"
   ]
  },
  {
   "cell_type": "markdown",
   "id": "481d3df8",
   "metadata": {},
   "source": [
    "Luego realizamos la técnica one hot encoder en las siguientes variables categóricas."
   ]
  },
  {
   "cell_type": "code",
   "execution_count": 60,
   "id": "8bae9601",
   "metadata": {},
   "outputs": [],
   "source": [
    "encoder = ['room_type', 'bed_type', 'cancellation_policy', 'city', 'host_has_profile_pic',\n",
    "          'host_identity_verified', 'instant_bookable']"
   ]
  },
  {
   "cell_type": "code",
   "execution_count": 61,
   "id": "ab2b2fdd",
   "metadata": {},
   "outputs": [],
   "source": [
    "cat_enc = pd.concat([cat_enc, pd.get_dummies(cat[encoder])], axis = 1)"
   ]
  },
  {
   "cell_type": "markdown",
   "id": "b3a5d2cc",
   "metadata": {},
   "source": [
    "Ahora vamos a encodear la variable booleana."
   ]
  },
  {
   "cell_type": "code",
   "execution_count": 62,
   "id": "c5d108b3",
   "metadata": {},
   "outputs": [],
   "source": [
    "cat_enc['cleaning_fee'] = pd.Series(np.where(cat['cleaning_fee'] == True, 1, 0), index= cat_enc.index)"
   ]
  },
  {
   "cell_type": "markdown",
   "id": "03d5fb95",
   "metadata": {},
   "source": [
    "Para transformar la variable property_type, que tiene muchas categorías, vamos a utilizar el método de labelencoder."
   ]
  },
  {
   "cell_type": "code",
   "execution_count": 63,
   "id": "e245ccc3",
   "metadata": {},
   "outputs": [],
   "source": [
    "label = LabelEncoder()"
   ]
  },
  {
   "cell_type": "code",
   "execution_count": 64,
   "id": "1ab5b4ca",
   "metadata": {},
   "outputs": [],
   "source": [
    "prop = label.fit_transform(cat[['property_type']])"
   ]
  },
  {
   "cell_type": "code",
   "execution_count": 65,
   "id": "d4a51c29",
   "metadata": {},
   "outputs": [],
   "source": [
    "cat_enc = pd.concat([cat_enc, pd.Series(prop, index = cat_enc.index, name= 'property_type')], axis = 1)"
   ]
  },
  {
   "cell_type": "markdown",
   "id": "e6a93738",
   "metadata": {},
   "source": [
    "Una vez que transformamos las variables reunificamos nuestro dataset:"
   ]
  },
  {
   "cell_type": "code",
   "execution_count": 66,
   "id": "a348d8c9",
   "metadata": {},
   "outputs": [],
   "source": [
    "data_trans = pd.concat([num, cat_enc], axis = 1)"
   ]
  },
  {
   "cell_type": "code",
   "execution_count": 67,
   "id": "b0548c29",
   "metadata": {},
   "outputs": [
    {
     "data": {
      "text/plain": [
       "(74062, 50)"
      ]
     },
     "execution_count": 67,
     "metadata": {},
     "output_type": "execute_result"
    }
   ],
   "source": [
    "data_trans.shape"
   ]
  },
  {
   "cell_type": "markdown",
   "id": "d5ad1662",
   "metadata": {},
   "source": [
    "El encodeo nos aumento el número de columnas. A partir de este punto es necesario realizar algún tipo de selección de variables. Sin embargo, los algoritmos basados en árboles de decisión seleccionan automáticamente las variables más relevantes."
   ]
  },
  {
   "cell_type": "markdown",
   "id": "765c8671",
   "metadata": {},
   "source": [
    "# Modelamiento"
   ]
  },
  {
   "cell_type": "markdown",
   "id": "9352e2fc",
   "metadata": {},
   "source": [
    "Antes de crear nuestros modelos, primero tenemos que subdividir nuestros datos en un conjunto de entrenamiento y otro de testeo."
   ]
  },
  {
   "cell_type": "code",
   "execution_count": 68,
   "id": "844d624b",
   "metadata": {},
   "outputs": [],
   "source": [
    "x = data_trans.drop('log_price', axis = 1)\n",
    "y = data_trans['log_price']"
   ]
  },
  {
   "cell_type": "code",
   "execution_count": 69,
   "id": "44d89f9d",
   "metadata": {},
   "outputs": [],
   "source": [
    "x_train, x_test, y_train, y_test = train_test_split(x, y, test_size= 0.2, random_state= 142)"
   ]
  },
  {
   "cell_type": "markdown",
   "id": "fcbb8a4e",
   "metadata": {},
   "source": [
    "## Random Forest"
   ]
  },
  {
   "cell_type": "markdown",
   "id": "d632c273",
   "metadata": {},
   "source": [
    "Probamos el algoritmo Random Forest."
   ]
  },
  {
   "cell_type": "code",
   "execution_count": 70,
   "id": "cf91781c",
   "metadata": {},
   "outputs": [],
   "source": [
    "rf = RandomForestRegressor(n_estimators= 50, random_state= 412)"
   ]
  },
  {
   "cell_type": "code",
   "execution_count": 71,
   "id": "b1cbc9d1",
   "metadata": {},
   "outputs": [
    {
     "data": {
      "text/html": [
       "<style>#sk-container-id-1 {color: black;}#sk-container-id-1 pre{padding: 0;}#sk-container-id-1 div.sk-toggleable {background-color: white;}#sk-container-id-1 label.sk-toggleable__label {cursor: pointer;display: block;width: 100%;margin-bottom: 0;padding: 0.3em;box-sizing: border-box;text-align: center;}#sk-container-id-1 label.sk-toggleable__label-arrow:before {content: \"▸\";float: left;margin-right: 0.25em;color: #696969;}#sk-container-id-1 label.sk-toggleable__label-arrow:hover:before {color: black;}#sk-container-id-1 div.sk-estimator:hover label.sk-toggleable__label-arrow:before {color: black;}#sk-container-id-1 div.sk-toggleable__content {max-height: 0;max-width: 0;overflow: hidden;text-align: left;background-color: #f0f8ff;}#sk-container-id-1 div.sk-toggleable__content pre {margin: 0.2em;color: black;border-radius: 0.25em;background-color: #f0f8ff;}#sk-container-id-1 input.sk-toggleable__control:checked~div.sk-toggleable__content {max-height: 200px;max-width: 100%;overflow: auto;}#sk-container-id-1 input.sk-toggleable__control:checked~label.sk-toggleable__label-arrow:before {content: \"▾\";}#sk-container-id-1 div.sk-estimator input.sk-toggleable__control:checked~label.sk-toggleable__label {background-color: #d4ebff;}#sk-container-id-1 div.sk-label input.sk-toggleable__control:checked~label.sk-toggleable__label {background-color: #d4ebff;}#sk-container-id-1 input.sk-hidden--visually {border: 0;clip: rect(1px 1px 1px 1px);clip: rect(1px, 1px, 1px, 1px);height: 1px;margin: -1px;overflow: hidden;padding: 0;position: absolute;width: 1px;}#sk-container-id-1 div.sk-estimator {font-family: monospace;background-color: #f0f8ff;border: 1px dotted black;border-radius: 0.25em;box-sizing: border-box;margin-bottom: 0.5em;}#sk-container-id-1 div.sk-estimator:hover {background-color: #d4ebff;}#sk-container-id-1 div.sk-parallel-item::after {content: \"\";width: 100%;border-bottom: 1px solid gray;flex-grow: 1;}#sk-container-id-1 div.sk-label:hover label.sk-toggleable__label {background-color: #d4ebff;}#sk-container-id-1 div.sk-serial::before {content: \"\";position: absolute;border-left: 1px solid gray;box-sizing: border-box;top: 0;bottom: 0;left: 50%;z-index: 0;}#sk-container-id-1 div.sk-serial {display: flex;flex-direction: column;align-items: center;background-color: white;padding-right: 0.2em;padding-left: 0.2em;position: relative;}#sk-container-id-1 div.sk-item {position: relative;z-index: 1;}#sk-container-id-1 div.sk-parallel {display: flex;align-items: stretch;justify-content: center;background-color: white;position: relative;}#sk-container-id-1 div.sk-item::before, #sk-container-id-1 div.sk-parallel-item::before {content: \"\";position: absolute;border-left: 1px solid gray;box-sizing: border-box;top: 0;bottom: 0;left: 50%;z-index: -1;}#sk-container-id-1 div.sk-parallel-item {display: flex;flex-direction: column;z-index: 1;position: relative;background-color: white;}#sk-container-id-1 div.sk-parallel-item:first-child::after {align-self: flex-end;width: 50%;}#sk-container-id-1 div.sk-parallel-item:last-child::after {align-self: flex-start;width: 50%;}#sk-container-id-1 div.sk-parallel-item:only-child::after {width: 0;}#sk-container-id-1 div.sk-dashed-wrapped {border: 1px dashed gray;margin: 0 0.4em 0.5em 0.4em;box-sizing: border-box;padding-bottom: 0.4em;background-color: white;}#sk-container-id-1 div.sk-label label {font-family: monospace;font-weight: bold;display: inline-block;line-height: 1.2em;}#sk-container-id-1 div.sk-label-container {text-align: center;}#sk-container-id-1 div.sk-container {/* jupyter's `normalize.less` sets `[hidden] { display: none; }` but bootstrap.min.css set `[hidden] { display: none !important; }` so we also need the `!important` here to be able to override the default hidden behavior on the sphinx rendered scikit-learn.org. See: https://github.com/scikit-learn/scikit-learn/issues/21755 */display: inline-block !important;position: relative;}#sk-container-id-1 div.sk-text-repr-fallback {display: none;}</style><div id=\"sk-container-id-1\" class=\"sk-top-container\"><div class=\"sk-text-repr-fallback\"><pre>RandomForestRegressor(n_estimators=50, random_state=412)</pre><b>In a Jupyter environment, please rerun this cell to show the HTML representation or trust the notebook. <br />On GitHub, the HTML representation is unable to render, please try loading this page with nbviewer.org.</b></div><div class=\"sk-container\" hidden><div class=\"sk-item\"><div class=\"sk-estimator sk-toggleable\"><input class=\"sk-toggleable__control sk-hidden--visually\" id=\"sk-estimator-id-1\" type=\"checkbox\" checked><label for=\"sk-estimator-id-1\" class=\"sk-toggleable__label sk-toggleable__label-arrow\">RandomForestRegressor</label><div class=\"sk-toggleable__content\"><pre>RandomForestRegressor(n_estimators=50, random_state=412)</pre></div></div></div></div></div>"
      ],
      "text/plain": [
       "RandomForestRegressor(n_estimators=50, random_state=412)"
      ]
     },
     "execution_count": 71,
     "metadata": {},
     "output_type": "execute_result"
    }
   ],
   "source": [
    "rf.fit(x_train, y_train)"
   ]
  },
  {
   "cell_type": "code",
   "execution_count": 72,
   "id": "1b961380",
   "metadata": {},
   "outputs": [],
   "source": [
    "pred = rf.predict(x_train)"
   ]
  },
  {
   "cell_type": "markdown",
   "id": "5fcabc7d",
   "metadata": {},
   "source": [
    "Vemos el error absoluto medio en el conjunto de entrenamiento."
   ]
  },
  {
   "cell_type": "code",
   "execution_count": 73,
   "id": "be58d9c1",
   "metadata": {},
   "outputs": [
    {
     "data": {
      "text/plain": [
       "0.12660632304245464"
      ]
     },
     "execution_count": 73,
     "metadata": {},
     "output_type": "execute_result"
    }
   ],
   "source": [
    "mean_absolute_error(y_train, pred)"
   ]
  },
  {
   "cell_type": "markdown",
   "id": "08bda870",
   "metadata": {},
   "source": [
    "Y leugo en el conjunto de testing."
   ]
  },
  {
   "cell_type": "code",
   "execution_count": 74,
   "id": "fcf38302",
   "metadata": {},
   "outputs": [],
   "source": [
    "pred = rf.predict(x_test)"
   ]
  },
  {
   "cell_type": "code",
   "execution_count": 75,
   "id": "3f1dda86",
   "metadata": {},
   "outputs": [
    {
     "data": {
      "text/plain": [
       "0.33553302449310557"
      ]
     },
     "execution_count": 75,
     "metadata": {},
     "output_type": "execute_result"
    }
   ],
   "source": [
    "mean_absolute_error(y_test, pred)"
   ]
  },
  {
   "cell_type": "markdown",
   "id": "a28b7497",
   "metadata": {},
   "source": [
    "Parece existir un cierto sobreajuste (el conjunto de testeo funciona mucho mejor que el conjunto de test. El modelo no generaliza tan bien)."
   ]
  },
  {
   "cell_type": "markdown",
   "id": "3c846698",
   "metadata": {},
   "source": [
    "Veamos las variables más relevantes."
   ]
  },
  {
   "cell_type": "code",
   "execution_count": 77,
   "id": "7b9f46f0",
   "metadata": {},
   "outputs": [
    {
     "data": {
      "text/html": [
       "<div>\n",
       "<style scoped>\n",
       "    .dataframe tbody tr th:only-of-type {\n",
       "        vertical-align: middle;\n",
       "    }\n",
       "\n",
       "    .dataframe tbody tr th {\n",
       "        vertical-align: top;\n",
       "    }\n",
       "\n",
       "    .dataframe thead th {\n",
       "        text-align: right;\n",
       "    }\n",
       "</style>\n",
       "<table border=\"1\" class=\"dataframe\">\n",
       "  <thead>\n",
       "    <tr style=\"text-align: right;\">\n",
       "      <th></th>\n",
       "      <th>variables</th>\n",
       "      <th>importancia</th>\n",
       "    </tr>\n",
       "  </thead>\n",
       "  <tbody>\n",
       "    <tr>\n",
       "      <th>22</th>\n",
       "      <td>room_type_Entire home/apt</td>\n",
       "      <td>0.366121</td>\n",
       "    </tr>\n",
       "    <tr>\n",
       "      <th>1</th>\n",
       "      <td>bathrooms</td>\n",
       "      <td>0.127604</td>\n",
       "    </tr>\n",
       "    <tr>\n",
       "      <th>3</th>\n",
       "      <td>number_of_reviews</td>\n",
       "      <td>0.060900</td>\n",
       "    </tr>\n",
       "    <tr>\n",
       "      <th>0</th>\n",
       "      <td>accommodates</td>\n",
       "      <td>0.038720</td>\n",
       "    </tr>\n",
       "    <tr>\n",
       "      <th>4</th>\n",
       "      <td>review_scores_rating</td>\n",
       "      <td>0.037810</td>\n",
       "    </tr>\n",
       "  </tbody>\n",
       "</table>\n",
       "</div>"
      ],
      "text/plain": [
       "                    variables  importancia\n",
       "22  room_type_Entire home/apt     0.366121\n",
       "1                   bathrooms     0.127604\n",
       "3           number_of_reviews     0.060900\n",
       "0                accommodates     0.038720\n",
       "4        review_scores_rating     0.037810"
      ]
     },
     "execution_count": 77,
     "metadata": {},
     "output_type": "execute_result"
    }
   ],
   "source": [
    "pd.DataFrame({'variables': x.columns, 'importancia': rf.feature_importances_}).sort_values('importancia', ascending=False).head(5)"
   ]
  },
  {
   "cell_type": "markdown",
   "id": "bb0e2f09",
   "metadata": {},
   "source": [
    "Veamos si podemos optimizar el modelo y regular el sobreajuste:"
   ]
  },
  {
   "cell_type": "code",
   "execution_count": 81,
   "id": "a71a0fe7",
   "metadata": {},
   "outputs": [],
   "source": [
    "params = {'n_estimators': [50,100,150], 'max_depth' : [7,11,15,None]}"
   ]
  },
  {
   "cell_type": "code",
   "execution_count": 82,
   "id": "df650733",
   "metadata": {},
   "outputs": [],
   "source": [
    "grid = RandomizedSearchCV(estimator= RandomForestRegressor(), param_distributions= params,\n",
    "                   cv = 5, scoring= 'neg_mean_absolute_error', n_iter= 5)"
   ]
  },
  {
   "cell_type": "code",
   "execution_count": 83,
   "id": "96c41368",
   "metadata": {},
   "outputs": [
    {
     "data": {
      "text/html": [
       "<style>#sk-container-id-2 {color: black;}#sk-container-id-2 pre{padding: 0;}#sk-container-id-2 div.sk-toggleable {background-color: white;}#sk-container-id-2 label.sk-toggleable__label {cursor: pointer;display: block;width: 100%;margin-bottom: 0;padding: 0.3em;box-sizing: border-box;text-align: center;}#sk-container-id-2 label.sk-toggleable__label-arrow:before {content: \"▸\";float: left;margin-right: 0.25em;color: #696969;}#sk-container-id-2 label.sk-toggleable__label-arrow:hover:before {color: black;}#sk-container-id-2 div.sk-estimator:hover label.sk-toggleable__label-arrow:before {color: black;}#sk-container-id-2 div.sk-toggleable__content {max-height: 0;max-width: 0;overflow: hidden;text-align: left;background-color: #f0f8ff;}#sk-container-id-2 div.sk-toggleable__content pre {margin: 0.2em;color: black;border-radius: 0.25em;background-color: #f0f8ff;}#sk-container-id-2 input.sk-toggleable__control:checked~div.sk-toggleable__content {max-height: 200px;max-width: 100%;overflow: auto;}#sk-container-id-2 input.sk-toggleable__control:checked~label.sk-toggleable__label-arrow:before {content: \"▾\";}#sk-container-id-2 div.sk-estimator input.sk-toggleable__control:checked~label.sk-toggleable__label {background-color: #d4ebff;}#sk-container-id-2 div.sk-label input.sk-toggleable__control:checked~label.sk-toggleable__label {background-color: #d4ebff;}#sk-container-id-2 input.sk-hidden--visually {border: 0;clip: rect(1px 1px 1px 1px);clip: rect(1px, 1px, 1px, 1px);height: 1px;margin: -1px;overflow: hidden;padding: 0;position: absolute;width: 1px;}#sk-container-id-2 div.sk-estimator {font-family: monospace;background-color: #f0f8ff;border: 1px dotted black;border-radius: 0.25em;box-sizing: border-box;margin-bottom: 0.5em;}#sk-container-id-2 div.sk-estimator:hover {background-color: #d4ebff;}#sk-container-id-2 div.sk-parallel-item::after {content: \"\";width: 100%;border-bottom: 1px solid gray;flex-grow: 1;}#sk-container-id-2 div.sk-label:hover label.sk-toggleable__label {background-color: #d4ebff;}#sk-container-id-2 div.sk-serial::before {content: \"\";position: absolute;border-left: 1px solid gray;box-sizing: border-box;top: 0;bottom: 0;left: 50%;z-index: 0;}#sk-container-id-2 div.sk-serial {display: flex;flex-direction: column;align-items: center;background-color: white;padding-right: 0.2em;padding-left: 0.2em;position: relative;}#sk-container-id-2 div.sk-item {position: relative;z-index: 1;}#sk-container-id-2 div.sk-parallel {display: flex;align-items: stretch;justify-content: center;background-color: white;position: relative;}#sk-container-id-2 div.sk-item::before, #sk-container-id-2 div.sk-parallel-item::before {content: \"\";position: absolute;border-left: 1px solid gray;box-sizing: border-box;top: 0;bottom: 0;left: 50%;z-index: -1;}#sk-container-id-2 div.sk-parallel-item {display: flex;flex-direction: column;z-index: 1;position: relative;background-color: white;}#sk-container-id-2 div.sk-parallel-item:first-child::after {align-self: flex-end;width: 50%;}#sk-container-id-2 div.sk-parallel-item:last-child::after {align-self: flex-start;width: 50%;}#sk-container-id-2 div.sk-parallel-item:only-child::after {width: 0;}#sk-container-id-2 div.sk-dashed-wrapped {border: 1px dashed gray;margin: 0 0.4em 0.5em 0.4em;box-sizing: border-box;padding-bottom: 0.4em;background-color: white;}#sk-container-id-2 div.sk-label label {font-family: monospace;font-weight: bold;display: inline-block;line-height: 1.2em;}#sk-container-id-2 div.sk-label-container {text-align: center;}#sk-container-id-2 div.sk-container {/* jupyter's `normalize.less` sets `[hidden] { display: none; }` but bootstrap.min.css set `[hidden] { display: none !important; }` so we also need the `!important` here to be able to override the default hidden behavior on the sphinx rendered scikit-learn.org. See: https://github.com/scikit-learn/scikit-learn/issues/21755 */display: inline-block !important;position: relative;}#sk-container-id-2 div.sk-text-repr-fallback {display: none;}</style><div id=\"sk-container-id-2\" class=\"sk-top-container\"><div class=\"sk-text-repr-fallback\"><pre>RandomizedSearchCV(cv=5, estimator=RandomForestRegressor(), n_iter=5,\n",
       "                   param_distributions={&#x27;max_depth&#x27;: [7, 11, 15, None],\n",
       "                                        &#x27;n_estimators&#x27;: [50, 100, 150]},\n",
       "                   scoring=&#x27;neg_mean_absolute_error&#x27;)</pre><b>In a Jupyter environment, please rerun this cell to show the HTML representation or trust the notebook. <br />On GitHub, the HTML representation is unable to render, please try loading this page with nbviewer.org.</b></div><div class=\"sk-container\" hidden><div class=\"sk-item sk-dashed-wrapped\"><div class=\"sk-label-container\"><div class=\"sk-label sk-toggleable\"><input class=\"sk-toggleable__control sk-hidden--visually\" id=\"sk-estimator-id-2\" type=\"checkbox\" ><label for=\"sk-estimator-id-2\" class=\"sk-toggleable__label sk-toggleable__label-arrow\">RandomizedSearchCV</label><div class=\"sk-toggleable__content\"><pre>RandomizedSearchCV(cv=5, estimator=RandomForestRegressor(), n_iter=5,\n",
       "                   param_distributions={&#x27;max_depth&#x27;: [7, 11, 15, None],\n",
       "                                        &#x27;n_estimators&#x27;: [50, 100, 150]},\n",
       "                   scoring=&#x27;neg_mean_absolute_error&#x27;)</pre></div></div></div><div class=\"sk-parallel\"><div class=\"sk-parallel-item\"><div class=\"sk-item\"><div class=\"sk-label-container\"><div class=\"sk-label sk-toggleable\"><input class=\"sk-toggleable__control sk-hidden--visually\" id=\"sk-estimator-id-3\" type=\"checkbox\" ><label for=\"sk-estimator-id-3\" class=\"sk-toggleable__label sk-toggleable__label-arrow\">estimator: RandomForestRegressor</label><div class=\"sk-toggleable__content\"><pre>RandomForestRegressor()</pre></div></div></div><div class=\"sk-serial\"><div class=\"sk-item\"><div class=\"sk-estimator sk-toggleable\"><input class=\"sk-toggleable__control sk-hidden--visually\" id=\"sk-estimator-id-4\" type=\"checkbox\" ><label for=\"sk-estimator-id-4\" class=\"sk-toggleable__label sk-toggleable__label-arrow\">RandomForestRegressor</label><div class=\"sk-toggleable__content\"><pre>RandomForestRegressor()</pre></div></div></div></div></div></div></div></div></div></div>"
      ],
      "text/plain": [
       "RandomizedSearchCV(cv=5, estimator=RandomForestRegressor(), n_iter=5,\n",
       "                   param_distributions={'max_depth': [7, 11, 15, None],\n",
       "                                        'n_estimators': [50, 100, 150]},\n",
       "                   scoring='neg_mean_absolute_error')"
      ]
     },
     "execution_count": 83,
     "metadata": {},
     "output_type": "execute_result"
    }
   ],
   "source": [
    "grid.fit(x_train, y_train)"
   ]
  },
  {
   "cell_type": "code",
   "execution_count": 84,
   "id": "735341b3",
   "metadata": {},
   "outputs": [
    {
     "data": {
      "text/plain": [
       "{'n_estimators': 100, 'max_depth': 15}"
      ]
     },
     "execution_count": 84,
     "metadata": {},
     "output_type": "execute_result"
    }
   ],
   "source": [
    "grid.best_params_"
   ]
  },
  {
   "cell_type": "markdown",
   "id": "e8d46549",
   "metadata": {},
   "source": [
    "Una vez obtenidos los hiperparámetros, volvemos a probar el algoritmo."
   ]
  },
  {
   "cell_type": "code",
   "execution_count": 78,
   "id": "5027685b",
   "metadata": {},
   "outputs": [],
   "source": [
    "rf = RandomForestRegressor(n_estimators= 100, max_depth= 15, random_state= 412)"
   ]
  },
  {
   "cell_type": "code",
   "execution_count": 79,
   "id": "90fdfd9e",
   "metadata": {},
   "outputs": [
    {
     "data": {
      "text/html": [
       "<style>#sk-container-id-2 {color: black;}#sk-container-id-2 pre{padding: 0;}#sk-container-id-2 div.sk-toggleable {background-color: white;}#sk-container-id-2 label.sk-toggleable__label {cursor: pointer;display: block;width: 100%;margin-bottom: 0;padding: 0.3em;box-sizing: border-box;text-align: center;}#sk-container-id-2 label.sk-toggleable__label-arrow:before {content: \"▸\";float: left;margin-right: 0.25em;color: #696969;}#sk-container-id-2 label.sk-toggleable__label-arrow:hover:before {color: black;}#sk-container-id-2 div.sk-estimator:hover label.sk-toggleable__label-arrow:before {color: black;}#sk-container-id-2 div.sk-toggleable__content {max-height: 0;max-width: 0;overflow: hidden;text-align: left;background-color: #f0f8ff;}#sk-container-id-2 div.sk-toggleable__content pre {margin: 0.2em;color: black;border-radius: 0.25em;background-color: #f0f8ff;}#sk-container-id-2 input.sk-toggleable__control:checked~div.sk-toggleable__content {max-height: 200px;max-width: 100%;overflow: auto;}#sk-container-id-2 input.sk-toggleable__control:checked~label.sk-toggleable__label-arrow:before {content: \"▾\";}#sk-container-id-2 div.sk-estimator input.sk-toggleable__control:checked~label.sk-toggleable__label {background-color: #d4ebff;}#sk-container-id-2 div.sk-label input.sk-toggleable__control:checked~label.sk-toggleable__label {background-color: #d4ebff;}#sk-container-id-2 input.sk-hidden--visually {border: 0;clip: rect(1px 1px 1px 1px);clip: rect(1px, 1px, 1px, 1px);height: 1px;margin: -1px;overflow: hidden;padding: 0;position: absolute;width: 1px;}#sk-container-id-2 div.sk-estimator {font-family: monospace;background-color: #f0f8ff;border: 1px dotted black;border-radius: 0.25em;box-sizing: border-box;margin-bottom: 0.5em;}#sk-container-id-2 div.sk-estimator:hover {background-color: #d4ebff;}#sk-container-id-2 div.sk-parallel-item::after {content: \"\";width: 100%;border-bottom: 1px solid gray;flex-grow: 1;}#sk-container-id-2 div.sk-label:hover label.sk-toggleable__label {background-color: #d4ebff;}#sk-container-id-2 div.sk-serial::before {content: \"\";position: absolute;border-left: 1px solid gray;box-sizing: border-box;top: 0;bottom: 0;left: 50%;z-index: 0;}#sk-container-id-2 div.sk-serial {display: flex;flex-direction: column;align-items: center;background-color: white;padding-right: 0.2em;padding-left: 0.2em;position: relative;}#sk-container-id-2 div.sk-item {position: relative;z-index: 1;}#sk-container-id-2 div.sk-parallel {display: flex;align-items: stretch;justify-content: center;background-color: white;position: relative;}#sk-container-id-2 div.sk-item::before, #sk-container-id-2 div.sk-parallel-item::before {content: \"\";position: absolute;border-left: 1px solid gray;box-sizing: border-box;top: 0;bottom: 0;left: 50%;z-index: -1;}#sk-container-id-2 div.sk-parallel-item {display: flex;flex-direction: column;z-index: 1;position: relative;background-color: white;}#sk-container-id-2 div.sk-parallel-item:first-child::after {align-self: flex-end;width: 50%;}#sk-container-id-2 div.sk-parallel-item:last-child::after {align-self: flex-start;width: 50%;}#sk-container-id-2 div.sk-parallel-item:only-child::after {width: 0;}#sk-container-id-2 div.sk-dashed-wrapped {border: 1px dashed gray;margin: 0 0.4em 0.5em 0.4em;box-sizing: border-box;padding-bottom: 0.4em;background-color: white;}#sk-container-id-2 div.sk-label label {font-family: monospace;font-weight: bold;display: inline-block;line-height: 1.2em;}#sk-container-id-2 div.sk-label-container {text-align: center;}#sk-container-id-2 div.sk-container {/* jupyter's `normalize.less` sets `[hidden] { display: none; }` but bootstrap.min.css set `[hidden] { display: none !important; }` so we also need the `!important` here to be able to override the default hidden behavior on the sphinx rendered scikit-learn.org. See: https://github.com/scikit-learn/scikit-learn/issues/21755 */display: inline-block !important;position: relative;}#sk-container-id-2 div.sk-text-repr-fallback {display: none;}</style><div id=\"sk-container-id-2\" class=\"sk-top-container\"><div class=\"sk-text-repr-fallback\"><pre>RandomForestRegressor(max_depth=15, random_state=412)</pre><b>In a Jupyter environment, please rerun this cell to show the HTML representation or trust the notebook. <br />On GitHub, the HTML representation is unable to render, please try loading this page with nbviewer.org.</b></div><div class=\"sk-container\" hidden><div class=\"sk-item\"><div class=\"sk-estimator sk-toggleable\"><input class=\"sk-toggleable__control sk-hidden--visually\" id=\"sk-estimator-id-2\" type=\"checkbox\" checked><label for=\"sk-estimator-id-2\" class=\"sk-toggleable__label sk-toggleable__label-arrow\">RandomForestRegressor</label><div class=\"sk-toggleable__content\"><pre>RandomForestRegressor(max_depth=15, random_state=412)</pre></div></div></div></div></div>"
      ],
      "text/plain": [
       "RandomForestRegressor(max_depth=15, random_state=412)"
      ]
     },
     "execution_count": 79,
     "metadata": {},
     "output_type": "execute_result"
    }
   ],
   "source": [
    "rf.fit(x_train, y_train)"
   ]
  },
  {
   "cell_type": "code",
   "execution_count": 80,
   "id": "594f3557",
   "metadata": {},
   "outputs": [],
   "source": [
    "pred = rf.predict(x_train)"
   ]
  },
  {
   "cell_type": "markdown",
   "id": "5a40e0df",
   "metadata": {},
   "source": [
    "Vemos los resultados en el conjunto de entrenamiento."
   ]
  },
  {
   "cell_type": "code",
   "execution_count": 81,
   "id": "b5c1f38d",
   "metadata": {},
   "outputs": [
    {
     "data": {
      "text/plain": [
       "0.2557801027113502"
      ]
     },
     "execution_count": 81,
     "metadata": {},
     "output_type": "execute_result"
    }
   ],
   "source": [
    "mean_absolute_error(y_train, pred)"
   ]
  },
  {
   "cell_type": "code",
   "execution_count": 82,
   "id": "4a88412b",
   "metadata": {},
   "outputs": [],
   "source": [
    "pred = rf.predict(x_test)"
   ]
  },
  {
   "cell_type": "markdown",
   "id": "85eac268",
   "metadata": {},
   "source": [
    "Y en el de testeo."
   ]
  },
  {
   "cell_type": "code",
   "execution_count": 83,
   "id": "94361eb5",
   "metadata": {},
   "outputs": [
    {
     "data": {
      "text/plain": [
       "0.3295393664966382"
      ]
     },
     "execution_count": 83,
     "metadata": {},
     "output_type": "execute_result"
    }
   ],
   "source": [
    "mean_absolute_error(y_test, pred)"
   ]
  },
  {
   "cell_type": "markdown",
   "id": "2af52bf5",
   "metadata": {},
   "source": [
    "Parece haberse corregido bastante el problema del sobre-ajuste."
   ]
  },
  {
   "cell_type": "markdown",
   "id": "f3b51df1",
   "metadata": {},
   "source": [
    "Veamos las variables más relevantes."
   ]
  },
  {
   "cell_type": "code",
   "execution_count": 84,
   "id": "ada8d304",
   "metadata": {},
   "outputs": [
    {
     "data": {
      "text/html": [
       "<div>\n",
       "<style scoped>\n",
       "    .dataframe tbody tr th:only-of-type {\n",
       "        vertical-align: middle;\n",
       "    }\n",
       "\n",
       "    .dataframe tbody tr th {\n",
       "        vertical-align: top;\n",
       "    }\n",
       "\n",
       "    .dataframe thead th {\n",
       "        text-align: right;\n",
       "    }\n",
       "</style>\n",
       "<table border=\"1\" class=\"dataframe\">\n",
       "  <thead>\n",
       "    <tr style=\"text-align: right;\">\n",
       "      <th></th>\n",
       "      <th>variables</th>\n",
       "      <th>importancia</th>\n",
       "    </tr>\n",
       "  </thead>\n",
       "  <tbody>\n",
       "    <tr>\n",
       "      <th>22</th>\n",
       "      <td>room_type_Entire home/apt</td>\n",
       "      <td>0.458918</td>\n",
       "    </tr>\n",
       "    <tr>\n",
       "      <th>1</th>\n",
       "      <td>bathrooms</td>\n",
       "      <td>0.154959</td>\n",
       "    </tr>\n",
       "    <tr>\n",
       "      <th>0</th>\n",
       "      <td>accommodates</td>\n",
       "      <td>0.037971</td>\n",
       "    </tr>\n",
       "    <tr>\n",
       "      <th>3</th>\n",
       "      <td>number_of_reviews</td>\n",
       "      <td>0.037615</td>\n",
       "    </tr>\n",
       "    <tr>\n",
       "      <th>5</th>\n",
       "      <td>bedrooms</td>\n",
       "      <td>0.030661</td>\n",
       "    </tr>\n",
       "  </tbody>\n",
       "</table>\n",
       "</div>"
      ],
      "text/plain": [
       "                    variables  importancia\n",
       "22  room_type_Entire home/apt     0.458918\n",
       "1                   bathrooms     0.154959\n",
       "0                accommodates     0.037971\n",
       "3           number_of_reviews     0.037615\n",
       "5                    bedrooms     0.030661"
      ]
     },
     "execution_count": 84,
     "metadata": {},
     "output_type": "execute_result"
    }
   ],
   "source": [
    "pd.DataFrame({'variables': x.columns, 'importancia': rf.feature_importances_}).sort_values('importancia', ascending=False).head(5)"
   ]
  },
  {
   "cell_type": "markdown",
   "id": "ea5a5da3",
   "metadata": {},
   "source": [
    "## Gradient Boosting"
   ]
  },
  {
   "cell_type": "markdown",
   "id": "2d219922",
   "metadata": {},
   "source": [
    "Ahora probemos el algoritmo Gradient Boosting:"
   ]
  },
  {
   "cell_type": "code",
   "execution_count": 85,
   "id": "dc778a53",
   "metadata": {},
   "outputs": [],
   "source": [
    "gb = GradientBoostingRegressor(n_estimators= 150, max_depth=5, learning_rate= 0.1, random_state= 142)"
   ]
  },
  {
   "cell_type": "code",
   "execution_count": 86,
   "id": "5a237d9e",
   "metadata": {},
   "outputs": [
    {
     "data": {
      "text/html": [
       "<style>#sk-container-id-3 {color: black;}#sk-container-id-3 pre{padding: 0;}#sk-container-id-3 div.sk-toggleable {background-color: white;}#sk-container-id-3 label.sk-toggleable__label {cursor: pointer;display: block;width: 100%;margin-bottom: 0;padding: 0.3em;box-sizing: border-box;text-align: center;}#sk-container-id-3 label.sk-toggleable__label-arrow:before {content: \"▸\";float: left;margin-right: 0.25em;color: #696969;}#sk-container-id-3 label.sk-toggleable__label-arrow:hover:before {color: black;}#sk-container-id-3 div.sk-estimator:hover label.sk-toggleable__label-arrow:before {color: black;}#sk-container-id-3 div.sk-toggleable__content {max-height: 0;max-width: 0;overflow: hidden;text-align: left;background-color: #f0f8ff;}#sk-container-id-3 div.sk-toggleable__content pre {margin: 0.2em;color: black;border-radius: 0.25em;background-color: #f0f8ff;}#sk-container-id-3 input.sk-toggleable__control:checked~div.sk-toggleable__content {max-height: 200px;max-width: 100%;overflow: auto;}#sk-container-id-3 input.sk-toggleable__control:checked~label.sk-toggleable__label-arrow:before {content: \"▾\";}#sk-container-id-3 div.sk-estimator input.sk-toggleable__control:checked~label.sk-toggleable__label {background-color: #d4ebff;}#sk-container-id-3 div.sk-label input.sk-toggleable__control:checked~label.sk-toggleable__label {background-color: #d4ebff;}#sk-container-id-3 input.sk-hidden--visually {border: 0;clip: rect(1px 1px 1px 1px);clip: rect(1px, 1px, 1px, 1px);height: 1px;margin: -1px;overflow: hidden;padding: 0;position: absolute;width: 1px;}#sk-container-id-3 div.sk-estimator {font-family: monospace;background-color: #f0f8ff;border: 1px dotted black;border-radius: 0.25em;box-sizing: border-box;margin-bottom: 0.5em;}#sk-container-id-3 div.sk-estimator:hover {background-color: #d4ebff;}#sk-container-id-3 div.sk-parallel-item::after {content: \"\";width: 100%;border-bottom: 1px solid gray;flex-grow: 1;}#sk-container-id-3 div.sk-label:hover label.sk-toggleable__label {background-color: #d4ebff;}#sk-container-id-3 div.sk-serial::before {content: \"\";position: absolute;border-left: 1px solid gray;box-sizing: border-box;top: 0;bottom: 0;left: 50%;z-index: 0;}#sk-container-id-3 div.sk-serial {display: flex;flex-direction: column;align-items: center;background-color: white;padding-right: 0.2em;padding-left: 0.2em;position: relative;}#sk-container-id-3 div.sk-item {position: relative;z-index: 1;}#sk-container-id-3 div.sk-parallel {display: flex;align-items: stretch;justify-content: center;background-color: white;position: relative;}#sk-container-id-3 div.sk-item::before, #sk-container-id-3 div.sk-parallel-item::before {content: \"\";position: absolute;border-left: 1px solid gray;box-sizing: border-box;top: 0;bottom: 0;left: 50%;z-index: -1;}#sk-container-id-3 div.sk-parallel-item {display: flex;flex-direction: column;z-index: 1;position: relative;background-color: white;}#sk-container-id-3 div.sk-parallel-item:first-child::after {align-self: flex-end;width: 50%;}#sk-container-id-3 div.sk-parallel-item:last-child::after {align-self: flex-start;width: 50%;}#sk-container-id-3 div.sk-parallel-item:only-child::after {width: 0;}#sk-container-id-3 div.sk-dashed-wrapped {border: 1px dashed gray;margin: 0 0.4em 0.5em 0.4em;box-sizing: border-box;padding-bottom: 0.4em;background-color: white;}#sk-container-id-3 div.sk-label label {font-family: monospace;font-weight: bold;display: inline-block;line-height: 1.2em;}#sk-container-id-3 div.sk-label-container {text-align: center;}#sk-container-id-3 div.sk-container {/* jupyter's `normalize.less` sets `[hidden] { display: none; }` but bootstrap.min.css set `[hidden] { display: none !important; }` so we also need the `!important` here to be able to override the default hidden behavior on the sphinx rendered scikit-learn.org. See: https://github.com/scikit-learn/scikit-learn/issues/21755 */display: inline-block !important;position: relative;}#sk-container-id-3 div.sk-text-repr-fallback {display: none;}</style><div id=\"sk-container-id-3\" class=\"sk-top-container\"><div class=\"sk-text-repr-fallback\"><pre>GradientBoostingRegressor(max_depth=5, n_estimators=150, random_state=142)</pre><b>In a Jupyter environment, please rerun this cell to show the HTML representation or trust the notebook. <br />On GitHub, the HTML representation is unable to render, please try loading this page with nbviewer.org.</b></div><div class=\"sk-container\" hidden><div class=\"sk-item\"><div class=\"sk-estimator sk-toggleable\"><input class=\"sk-toggleable__control sk-hidden--visually\" id=\"sk-estimator-id-3\" type=\"checkbox\" checked><label for=\"sk-estimator-id-3\" class=\"sk-toggleable__label sk-toggleable__label-arrow\">GradientBoostingRegressor</label><div class=\"sk-toggleable__content\"><pre>GradientBoostingRegressor(max_depth=5, n_estimators=150, random_state=142)</pre></div></div></div></div></div>"
      ],
      "text/plain": [
       "GradientBoostingRegressor(max_depth=5, n_estimators=150, random_state=142)"
      ]
     },
     "execution_count": 86,
     "metadata": {},
     "output_type": "execute_result"
    }
   ],
   "source": [
    "gb.fit(x_train, y_train)"
   ]
  },
  {
   "cell_type": "code",
   "execution_count": 87,
   "id": "1259766b",
   "metadata": {},
   "outputs": [],
   "source": [
    "pred = gb.predict(x_train)"
   ]
  },
  {
   "cell_type": "code",
   "execution_count": 88,
   "id": "80eaf62a",
   "metadata": {},
   "outputs": [
    {
     "data": {
      "text/plain": [
       "0.31538829795157386"
      ]
     },
     "execution_count": 88,
     "metadata": {},
     "output_type": "execute_result"
    }
   ],
   "source": [
    "mean_absolute_error(y_train, pred)"
   ]
  },
  {
   "cell_type": "code",
   "execution_count": 89,
   "id": "46907396",
   "metadata": {},
   "outputs": [],
   "source": [
    "pred = gb.predict(x_test)"
   ]
  },
  {
   "cell_type": "code",
   "execution_count": 90,
   "id": "f0de2679",
   "metadata": {},
   "outputs": [
    {
     "data": {
      "text/plain": [
       "0.3262174142360259"
      ]
     },
     "execution_count": 90,
     "metadata": {},
     "output_type": "execute_result"
    }
   ],
   "source": [
    "mean_absolute_error(y_test, pred)"
   ]
  },
  {
   "cell_type": "markdown",
   "id": "be10767c",
   "metadata": {},
   "source": [
    "El modelo generaliza mucho mejor que Random Forest, ya que no sufre sobre-ajuste. Ahora veamos las variables principales. "
   ]
  },
  {
   "cell_type": "code",
   "execution_count": 91,
   "id": "825a30cd",
   "metadata": {},
   "outputs": [
    {
     "data": {
      "text/html": [
       "<div>\n",
       "<style scoped>\n",
       "    .dataframe tbody tr th:only-of-type {\n",
       "        vertical-align: middle;\n",
       "    }\n",
       "\n",
       "    .dataframe tbody tr th {\n",
       "        vertical-align: top;\n",
       "    }\n",
       "\n",
       "    .dataframe thead th {\n",
       "        text-align: right;\n",
       "    }\n",
       "</style>\n",
       "<table border=\"1\" class=\"dataframe\">\n",
       "  <thead>\n",
       "    <tr style=\"text-align: right;\">\n",
       "      <th></th>\n",
       "      <th>variables</th>\n",
       "      <th>importancia</th>\n",
       "    </tr>\n",
       "  </thead>\n",
       "  <tbody>\n",
       "    <tr>\n",
       "      <th>22</th>\n",
       "      <td>room_type_Entire home/apt</td>\n",
       "      <td>0.534278</td>\n",
       "    </tr>\n",
       "    <tr>\n",
       "      <th>1</th>\n",
       "      <td>bathrooms</td>\n",
       "      <td>0.156364</td>\n",
       "    </tr>\n",
       "    <tr>\n",
       "      <th>0</th>\n",
       "      <td>accommodates</td>\n",
       "      <td>0.060700</td>\n",
       "    </tr>\n",
       "    <tr>\n",
       "      <th>5</th>\n",
       "      <td>bedrooms</td>\n",
       "      <td>0.040223</td>\n",
       "    </tr>\n",
       "    <tr>\n",
       "      <th>3</th>\n",
       "      <td>number_of_reviews</td>\n",
       "      <td>0.030067</td>\n",
       "    </tr>\n",
       "  </tbody>\n",
       "</table>\n",
       "</div>"
      ],
      "text/plain": [
       "                    variables  importancia\n",
       "22  room_type_Entire home/apt     0.534278\n",
       "1                   bathrooms     0.156364\n",
       "0                accommodates     0.060700\n",
       "5                    bedrooms     0.040223\n",
       "3           number_of_reviews     0.030067"
      ]
     },
     "execution_count": 91,
     "metadata": {},
     "output_type": "execute_result"
    }
   ],
   "source": [
    "pd.DataFrame({'variables': x.columns, 'importancia': gb.feature_importances_}).sort_values('importancia', ascending=False).head(5)"
   ]
  },
  {
   "cell_type": "markdown",
   "id": "ddc92f2c",
   "metadata": {},
   "source": [
    "Veamos si encontramos mejores hiperparámetros."
   ]
  },
  {
   "cell_type": "code",
   "execution_count": 99,
   "id": "e7cfe222",
   "metadata": {},
   "outputs": [],
   "source": [
    "params = {'n_estimators': [50,100,150], 'learning_rate': [0.1, 0.01, 0.001]}"
   ]
  },
  {
   "cell_type": "code",
   "execution_count": 100,
   "id": "15e2efc6",
   "metadata": {},
   "outputs": [],
   "source": [
    "grid = RandomizedSearchCV(estimator= GradientBoostingRegressor(), param_distributions= params,\n",
    "                   cv = 5, scoring= 'neg_mean_absolute_error', n_iter= 5)"
   ]
  },
  {
   "cell_type": "code",
   "execution_count": 101,
   "id": "f898789e",
   "metadata": {},
   "outputs": [
    {
     "data": {
      "text/html": [
       "<style>#sk-container-id-5 {color: black;}#sk-container-id-5 pre{padding: 0;}#sk-container-id-5 div.sk-toggleable {background-color: white;}#sk-container-id-5 label.sk-toggleable__label {cursor: pointer;display: block;width: 100%;margin-bottom: 0;padding: 0.3em;box-sizing: border-box;text-align: center;}#sk-container-id-5 label.sk-toggleable__label-arrow:before {content: \"▸\";float: left;margin-right: 0.25em;color: #696969;}#sk-container-id-5 label.sk-toggleable__label-arrow:hover:before {color: black;}#sk-container-id-5 div.sk-estimator:hover label.sk-toggleable__label-arrow:before {color: black;}#sk-container-id-5 div.sk-toggleable__content {max-height: 0;max-width: 0;overflow: hidden;text-align: left;background-color: #f0f8ff;}#sk-container-id-5 div.sk-toggleable__content pre {margin: 0.2em;color: black;border-radius: 0.25em;background-color: #f0f8ff;}#sk-container-id-5 input.sk-toggleable__control:checked~div.sk-toggleable__content {max-height: 200px;max-width: 100%;overflow: auto;}#sk-container-id-5 input.sk-toggleable__control:checked~label.sk-toggleable__label-arrow:before {content: \"▾\";}#sk-container-id-5 div.sk-estimator input.sk-toggleable__control:checked~label.sk-toggleable__label {background-color: #d4ebff;}#sk-container-id-5 div.sk-label input.sk-toggleable__control:checked~label.sk-toggleable__label {background-color: #d4ebff;}#sk-container-id-5 input.sk-hidden--visually {border: 0;clip: rect(1px 1px 1px 1px);clip: rect(1px, 1px, 1px, 1px);height: 1px;margin: -1px;overflow: hidden;padding: 0;position: absolute;width: 1px;}#sk-container-id-5 div.sk-estimator {font-family: monospace;background-color: #f0f8ff;border: 1px dotted black;border-radius: 0.25em;box-sizing: border-box;margin-bottom: 0.5em;}#sk-container-id-5 div.sk-estimator:hover {background-color: #d4ebff;}#sk-container-id-5 div.sk-parallel-item::after {content: \"\";width: 100%;border-bottom: 1px solid gray;flex-grow: 1;}#sk-container-id-5 div.sk-label:hover label.sk-toggleable__label {background-color: #d4ebff;}#sk-container-id-5 div.sk-serial::before {content: \"\";position: absolute;border-left: 1px solid gray;box-sizing: border-box;top: 0;bottom: 0;left: 50%;z-index: 0;}#sk-container-id-5 div.sk-serial {display: flex;flex-direction: column;align-items: center;background-color: white;padding-right: 0.2em;padding-left: 0.2em;position: relative;}#sk-container-id-5 div.sk-item {position: relative;z-index: 1;}#sk-container-id-5 div.sk-parallel {display: flex;align-items: stretch;justify-content: center;background-color: white;position: relative;}#sk-container-id-5 div.sk-item::before, #sk-container-id-5 div.sk-parallel-item::before {content: \"\";position: absolute;border-left: 1px solid gray;box-sizing: border-box;top: 0;bottom: 0;left: 50%;z-index: -1;}#sk-container-id-5 div.sk-parallel-item {display: flex;flex-direction: column;z-index: 1;position: relative;background-color: white;}#sk-container-id-5 div.sk-parallel-item:first-child::after {align-self: flex-end;width: 50%;}#sk-container-id-5 div.sk-parallel-item:last-child::after {align-self: flex-start;width: 50%;}#sk-container-id-5 div.sk-parallel-item:only-child::after {width: 0;}#sk-container-id-5 div.sk-dashed-wrapped {border: 1px dashed gray;margin: 0 0.4em 0.5em 0.4em;box-sizing: border-box;padding-bottom: 0.4em;background-color: white;}#sk-container-id-5 div.sk-label label {font-family: monospace;font-weight: bold;display: inline-block;line-height: 1.2em;}#sk-container-id-5 div.sk-label-container {text-align: center;}#sk-container-id-5 div.sk-container {/* jupyter's `normalize.less` sets `[hidden] { display: none; }` but bootstrap.min.css set `[hidden] { display: none !important; }` so we also need the `!important` here to be able to override the default hidden behavior on the sphinx rendered scikit-learn.org. See: https://github.com/scikit-learn/scikit-learn/issues/21755 */display: inline-block !important;position: relative;}#sk-container-id-5 div.sk-text-repr-fallback {display: none;}</style><div id=\"sk-container-id-5\" class=\"sk-top-container\"><div class=\"sk-text-repr-fallback\"><pre>RandomizedSearchCV(cv=5, estimator=GradientBoostingRegressor(), n_iter=5,\n",
       "                   param_distributions={&#x27;learning_rate&#x27;: [0.1, 0.01, 0.001],\n",
       "                                        &#x27;n_estimators&#x27;: [50, 100, 150]},\n",
       "                   scoring=&#x27;neg_mean_absolute_error&#x27;)</pre><b>In a Jupyter environment, please rerun this cell to show the HTML representation or trust the notebook. <br />On GitHub, the HTML representation is unable to render, please try loading this page with nbviewer.org.</b></div><div class=\"sk-container\" hidden><div class=\"sk-item sk-dashed-wrapped\"><div class=\"sk-label-container\"><div class=\"sk-label sk-toggleable\"><input class=\"sk-toggleable__control sk-hidden--visually\" id=\"sk-estimator-id-7\" type=\"checkbox\" ><label for=\"sk-estimator-id-7\" class=\"sk-toggleable__label sk-toggleable__label-arrow\">RandomizedSearchCV</label><div class=\"sk-toggleable__content\"><pre>RandomizedSearchCV(cv=5, estimator=GradientBoostingRegressor(), n_iter=5,\n",
       "                   param_distributions={&#x27;learning_rate&#x27;: [0.1, 0.01, 0.001],\n",
       "                                        &#x27;n_estimators&#x27;: [50, 100, 150]},\n",
       "                   scoring=&#x27;neg_mean_absolute_error&#x27;)</pre></div></div></div><div class=\"sk-parallel\"><div class=\"sk-parallel-item\"><div class=\"sk-item\"><div class=\"sk-label-container\"><div class=\"sk-label sk-toggleable\"><input class=\"sk-toggleable__control sk-hidden--visually\" id=\"sk-estimator-id-8\" type=\"checkbox\" ><label for=\"sk-estimator-id-8\" class=\"sk-toggleable__label sk-toggleable__label-arrow\">estimator: GradientBoostingRegressor</label><div class=\"sk-toggleable__content\"><pre>GradientBoostingRegressor()</pre></div></div></div><div class=\"sk-serial\"><div class=\"sk-item\"><div class=\"sk-estimator sk-toggleable\"><input class=\"sk-toggleable__control sk-hidden--visually\" id=\"sk-estimator-id-9\" type=\"checkbox\" ><label for=\"sk-estimator-id-9\" class=\"sk-toggleable__label sk-toggleable__label-arrow\">GradientBoostingRegressor</label><div class=\"sk-toggleable__content\"><pre>GradientBoostingRegressor()</pre></div></div></div></div></div></div></div></div></div></div>"
      ],
      "text/plain": [
       "RandomizedSearchCV(cv=5, estimator=GradientBoostingRegressor(), n_iter=5,\n",
       "                   param_distributions={'learning_rate': [0.1, 0.01, 0.001],\n",
       "                                        'n_estimators': [50, 100, 150]},\n",
       "                   scoring='neg_mean_absolute_error')"
      ]
     },
     "execution_count": 101,
     "metadata": {},
     "output_type": "execute_result"
    }
   ],
   "source": [
    "grid.fit(x_train, y_train)"
   ]
  },
  {
   "cell_type": "markdown",
   "id": "6d284e80",
   "metadata": {},
   "source": [
    "Los hiperparámetros son iguales a los de nuestro modelo inicial."
   ]
  },
  {
   "cell_type": "code",
   "execution_count": 102,
   "id": "fa3aec5b",
   "metadata": {},
   "outputs": [
    {
     "data": {
      "text/plain": [
       "{'n_estimators': 150, 'learning_rate': 0.1}"
      ]
     },
     "execution_count": 102,
     "metadata": {},
     "output_type": "execute_result"
    }
   ],
   "source": [
    "grid.best_params_"
   ]
  },
  {
   "cell_type": "markdown",
   "id": "39719019",
   "metadata": {},
   "source": [
    "## XGBoost"
   ]
  },
  {
   "cell_type": "markdown",
   "id": "e9dab018",
   "metadata": {},
   "source": [
    "Ahora vamos a probar el algoritmo XGBoost."
   ]
  },
  {
   "cell_type": "code",
   "execution_count": 92,
   "id": "52f9c5d6",
   "metadata": {},
   "outputs": [],
   "source": [
    "xgb = XGBRegressor(n_estimators= 200, learning_rate= 0.1, random_state= 142)"
   ]
  },
  {
   "cell_type": "code",
   "execution_count": 93,
   "id": "06947b5e",
   "metadata": {},
   "outputs": [
    {
     "data": {
      "text/html": [
       "<style>#sk-container-id-4 {color: black;}#sk-container-id-4 pre{padding: 0;}#sk-container-id-4 div.sk-toggleable {background-color: white;}#sk-container-id-4 label.sk-toggleable__label {cursor: pointer;display: block;width: 100%;margin-bottom: 0;padding: 0.3em;box-sizing: border-box;text-align: center;}#sk-container-id-4 label.sk-toggleable__label-arrow:before {content: \"▸\";float: left;margin-right: 0.25em;color: #696969;}#sk-container-id-4 label.sk-toggleable__label-arrow:hover:before {color: black;}#sk-container-id-4 div.sk-estimator:hover label.sk-toggleable__label-arrow:before {color: black;}#sk-container-id-4 div.sk-toggleable__content {max-height: 0;max-width: 0;overflow: hidden;text-align: left;background-color: #f0f8ff;}#sk-container-id-4 div.sk-toggleable__content pre {margin: 0.2em;color: black;border-radius: 0.25em;background-color: #f0f8ff;}#sk-container-id-4 input.sk-toggleable__control:checked~div.sk-toggleable__content {max-height: 200px;max-width: 100%;overflow: auto;}#sk-container-id-4 input.sk-toggleable__control:checked~label.sk-toggleable__label-arrow:before {content: \"▾\";}#sk-container-id-4 div.sk-estimator input.sk-toggleable__control:checked~label.sk-toggleable__label {background-color: #d4ebff;}#sk-container-id-4 div.sk-label input.sk-toggleable__control:checked~label.sk-toggleable__label {background-color: #d4ebff;}#sk-container-id-4 input.sk-hidden--visually {border: 0;clip: rect(1px 1px 1px 1px);clip: rect(1px, 1px, 1px, 1px);height: 1px;margin: -1px;overflow: hidden;padding: 0;position: absolute;width: 1px;}#sk-container-id-4 div.sk-estimator {font-family: monospace;background-color: #f0f8ff;border: 1px dotted black;border-radius: 0.25em;box-sizing: border-box;margin-bottom: 0.5em;}#sk-container-id-4 div.sk-estimator:hover {background-color: #d4ebff;}#sk-container-id-4 div.sk-parallel-item::after {content: \"\";width: 100%;border-bottom: 1px solid gray;flex-grow: 1;}#sk-container-id-4 div.sk-label:hover label.sk-toggleable__label {background-color: #d4ebff;}#sk-container-id-4 div.sk-serial::before {content: \"\";position: absolute;border-left: 1px solid gray;box-sizing: border-box;top: 0;bottom: 0;left: 50%;z-index: 0;}#sk-container-id-4 div.sk-serial {display: flex;flex-direction: column;align-items: center;background-color: white;padding-right: 0.2em;padding-left: 0.2em;position: relative;}#sk-container-id-4 div.sk-item {position: relative;z-index: 1;}#sk-container-id-4 div.sk-parallel {display: flex;align-items: stretch;justify-content: center;background-color: white;position: relative;}#sk-container-id-4 div.sk-item::before, #sk-container-id-4 div.sk-parallel-item::before {content: \"\";position: absolute;border-left: 1px solid gray;box-sizing: border-box;top: 0;bottom: 0;left: 50%;z-index: -1;}#sk-container-id-4 div.sk-parallel-item {display: flex;flex-direction: column;z-index: 1;position: relative;background-color: white;}#sk-container-id-4 div.sk-parallel-item:first-child::after {align-self: flex-end;width: 50%;}#sk-container-id-4 div.sk-parallel-item:last-child::after {align-self: flex-start;width: 50%;}#sk-container-id-4 div.sk-parallel-item:only-child::after {width: 0;}#sk-container-id-4 div.sk-dashed-wrapped {border: 1px dashed gray;margin: 0 0.4em 0.5em 0.4em;box-sizing: border-box;padding-bottom: 0.4em;background-color: white;}#sk-container-id-4 div.sk-label label {font-family: monospace;font-weight: bold;display: inline-block;line-height: 1.2em;}#sk-container-id-4 div.sk-label-container {text-align: center;}#sk-container-id-4 div.sk-container {/* jupyter's `normalize.less` sets `[hidden] { display: none; }` but bootstrap.min.css set `[hidden] { display: none !important; }` so we also need the `!important` here to be able to override the default hidden behavior on the sphinx rendered scikit-learn.org. See: https://github.com/scikit-learn/scikit-learn/issues/21755 */display: inline-block !important;position: relative;}#sk-container-id-4 div.sk-text-repr-fallback {display: none;}</style><div id=\"sk-container-id-4\" class=\"sk-top-container\"><div class=\"sk-text-repr-fallback\"><pre>XGBRegressor(base_score=None, booster=None, callbacks=None,\n",
       "             colsample_bylevel=None, colsample_bynode=None,\n",
       "             colsample_bytree=None, device=None, early_stopping_rounds=None,\n",
       "             enable_categorical=False, eval_metric=None, feature_types=None,\n",
       "             gamma=None, grow_policy=None, importance_type=None,\n",
       "             interaction_constraints=None, learning_rate=0.1, max_bin=None,\n",
       "             max_cat_threshold=None, max_cat_to_onehot=None,\n",
       "             max_delta_step=None, max_depth=None, max_leaves=None,\n",
       "             min_child_weight=None, missing=nan, monotone_constraints=None,\n",
       "             multi_strategy=None, n_estimators=200, n_jobs=None,\n",
       "             num_parallel_tree=None, random_state=142, ...)</pre><b>In a Jupyter environment, please rerun this cell to show the HTML representation or trust the notebook. <br />On GitHub, the HTML representation is unable to render, please try loading this page with nbviewer.org.</b></div><div class=\"sk-container\" hidden><div class=\"sk-item\"><div class=\"sk-estimator sk-toggleable\"><input class=\"sk-toggleable__control sk-hidden--visually\" id=\"sk-estimator-id-4\" type=\"checkbox\" checked><label for=\"sk-estimator-id-4\" class=\"sk-toggleable__label sk-toggleable__label-arrow\">XGBRegressor</label><div class=\"sk-toggleable__content\"><pre>XGBRegressor(base_score=None, booster=None, callbacks=None,\n",
       "             colsample_bylevel=None, colsample_bynode=None,\n",
       "             colsample_bytree=None, device=None, early_stopping_rounds=None,\n",
       "             enable_categorical=False, eval_metric=None, feature_types=None,\n",
       "             gamma=None, grow_policy=None, importance_type=None,\n",
       "             interaction_constraints=None, learning_rate=0.1, max_bin=None,\n",
       "             max_cat_threshold=None, max_cat_to_onehot=None,\n",
       "             max_delta_step=None, max_depth=None, max_leaves=None,\n",
       "             min_child_weight=None, missing=nan, monotone_constraints=None,\n",
       "             multi_strategy=None, n_estimators=200, n_jobs=None,\n",
       "             num_parallel_tree=None, random_state=142, ...)</pre></div></div></div></div></div>"
      ],
      "text/plain": [
       "XGBRegressor(base_score=None, booster=None, callbacks=None,\n",
       "             colsample_bylevel=None, colsample_bynode=None,\n",
       "             colsample_bytree=None, device=None, early_stopping_rounds=None,\n",
       "             enable_categorical=False, eval_metric=None, feature_types=None,\n",
       "             gamma=None, grow_policy=None, importance_type=None,\n",
       "             interaction_constraints=None, learning_rate=0.1, max_bin=None,\n",
       "             max_cat_threshold=None, max_cat_to_onehot=None,\n",
       "             max_delta_step=None, max_depth=None, max_leaves=None,\n",
       "             min_child_weight=None, missing=nan, monotone_constraints=None,\n",
       "             multi_strategy=None, n_estimators=200, n_jobs=None,\n",
       "             num_parallel_tree=None, random_state=142, ...)"
      ]
     },
     "execution_count": 93,
     "metadata": {},
     "output_type": "execute_result"
    }
   ],
   "source": [
    "xgb.fit(x_train, y_train)"
   ]
  },
  {
   "cell_type": "code",
   "execution_count": 94,
   "id": "319a133c",
   "metadata": {},
   "outputs": [],
   "source": [
    "pred = xgb.predict(x_train)"
   ]
  },
  {
   "cell_type": "code",
   "execution_count": 95,
   "id": "2f715252",
   "metadata": {},
   "outputs": [
    {
     "data": {
      "text/plain": [
       "0.3014750954380356"
      ]
     },
     "execution_count": 95,
     "metadata": {},
     "output_type": "execute_result"
    }
   ],
   "source": [
    "mean_absolute_error(y_train, pred)"
   ]
  },
  {
   "cell_type": "code",
   "execution_count": 96,
   "id": "7f6470ab",
   "metadata": {},
   "outputs": [],
   "source": [
    "pred = xgb.predict(x_test)"
   ]
  },
  {
   "cell_type": "code",
   "execution_count": 97,
   "id": "6abf8053",
   "metadata": {},
   "outputs": [
    {
     "data": {
      "text/plain": [
       "0.32395617891769296"
      ]
     },
     "execution_count": 97,
     "metadata": {},
     "output_type": "execute_result"
    }
   ],
   "source": [
    "mean_absolute_error(y_test, pred)"
   ]
  },
  {
   "cell_type": "markdown",
   "id": "7828db70",
   "metadata": {},
   "source": [
    "El resultado del modelo también es muy bueno y no sufre sobre-ajuste como random forest."
   ]
  },
  {
   "cell_type": "code",
   "execution_count": 98,
   "id": "c7d7f812",
   "metadata": {},
   "outputs": [
    {
     "data": {
      "text/html": [
       "<div>\n",
       "<style scoped>\n",
       "    .dataframe tbody tr th:only-of-type {\n",
       "        vertical-align: middle;\n",
       "    }\n",
       "\n",
       "    .dataframe tbody tr th {\n",
       "        vertical-align: top;\n",
       "    }\n",
       "\n",
       "    .dataframe thead th {\n",
       "        text-align: right;\n",
       "    }\n",
       "</style>\n",
       "<table border=\"1\" class=\"dataframe\">\n",
       "  <thead>\n",
       "    <tr style=\"text-align: right;\">\n",
       "      <th></th>\n",
       "      <th>variables</th>\n",
       "      <th>importancia</th>\n",
       "    </tr>\n",
       "  </thead>\n",
       "  <tbody>\n",
       "    <tr>\n",
       "      <th>22</th>\n",
       "      <td>room_type_Entire home/apt</td>\n",
       "      <td>0.731819</td>\n",
       "    </tr>\n",
       "    <tr>\n",
       "      <th>1</th>\n",
       "      <td>bathrooms</td>\n",
       "      <td>0.042505</td>\n",
       "    </tr>\n",
       "    <tr>\n",
       "      <th>40</th>\n",
       "      <td>city_SF</td>\n",
       "      <td>0.026943</td>\n",
       "    </tr>\n",
       "    <tr>\n",
       "      <th>23</th>\n",
       "      <td>room_type_Private room</td>\n",
       "      <td>0.021934</td>\n",
       "    </tr>\n",
       "    <tr>\n",
       "      <th>38</th>\n",
       "      <td>city_LA</td>\n",
       "      <td>0.017704</td>\n",
       "    </tr>\n",
       "  </tbody>\n",
       "</table>\n",
       "</div>"
      ],
      "text/plain": [
       "                    variables  importancia\n",
       "22  room_type_Entire home/apt     0.731819\n",
       "1                   bathrooms     0.042505\n",
       "40                    city_SF     0.026943\n",
       "23     room_type_Private room     0.021934\n",
       "38                    city_LA     0.017704"
      ]
     },
     "execution_count": 98,
     "metadata": {},
     "output_type": "execute_result"
    }
   ],
   "source": [
    "pd.DataFrame({'variables': x.columns, 'importancia': xgb.feature_importances_}).sort_values('importancia', ascending=False).head(5)"
   ]
  },
  {
   "cell_type": "markdown",
   "id": "159ccd20",
   "metadata": {},
   "source": [
    "Veamos si con una optimización de hiperparámetros podemos mejorar el modelo."
   ]
  },
  {
   "cell_type": "code",
   "execution_count": 117,
   "id": "106ad01b",
   "metadata": {},
   "outputs": [],
   "source": [
    "params = {'n_estimators': [50,100,150], 'learning_rate': [0.1, 0.01, 0.001]}"
   ]
  },
  {
   "cell_type": "code",
   "execution_count": 118,
   "id": "319daa41",
   "metadata": {},
   "outputs": [],
   "source": [
    "grid = RandomizedSearchCV(estimator= XGBRegressor(), param_distributions= params,\n",
    "                   cv = 5, scoring= 'neg_mean_absolute_error', n_iter= 5)"
   ]
  },
  {
   "cell_type": "code",
   "execution_count": 119,
   "id": "a97aea78",
   "metadata": {},
   "outputs": [
    {
     "data": {
      "text/html": [
       "<style>#sk-container-id-8 {color: black;}#sk-container-id-8 pre{padding: 0;}#sk-container-id-8 div.sk-toggleable {background-color: white;}#sk-container-id-8 label.sk-toggleable__label {cursor: pointer;display: block;width: 100%;margin-bottom: 0;padding: 0.3em;box-sizing: border-box;text-align: center;}#sk-container-id-8 label.sk-toggleable__label-arrow:before {content: \"▸\";float: left;margin-right: 0.25em;color: #696969;}#sk-container-id-8 label.sk-toggleable__label-arrow:hover:before {color: black;}#sk-container-id-8 div.sk-estimator:hover label.sk-toggleable__label-arrow:before {color: black;}#sk-container-id-8 div.sk-toggleable__content {max-height: 0;max-width: 0;overflow: hidden;text-align: left;background-color: #f0f8ff;}#sk-container-id-8 div.sk-toggleable__content pre {margin: 0.2em;color: black;border-radius: 0.25em;background-color: #f0f8ff;}#sk-container-id-8 input.sk-toggleable__control:checked~div.sk-toggleable__content {max-height: 200px;max-width: 100%;overflow: auto;}#sk-container-id-8 input.sk-toggleable__control:checked~label.sk-toggleable__label-arrow:before {content: \"▾\";}#sk-container-id-8 div.sk-estimator input.sk-toggleable__control:checked~label.sk-toggleable__label {background-color: #d4ebff;}#sk-container-id-8 div.sk-label input.sk-toggleable__control:checked~label.sk-toggleable__label {background-color: #d4ebff;}#sk-container-id-8 input.sk-hidden--visually {border: 0;clip: rect(1px 1px 1px 1px);clip: rect(1px, 1px, 1px, 1px);height: 1px;margin: -1px;overflow: hidden;padding: 0;position: absolute;width: 1px;}#sk-container-id-8 div.sk-estimator {font-family: monospace;background-color: #f0f8ff;border: 1px dotted black;border-radius: 0.25em;box-sizing: border-box;margin-bottom: 0.5em;}#sk-container-id-8 div.sk-estimator:hover {background-color: #d4ebff;}#sk-container-id-8 div.sk-parallel-item::after {content: \"\";width: 100%;border-bottom: 1px solid gray;flex-grow: 1;}#sk-container-id-8 div.sk-label:hover label.sk-toggleable__label {background-color: #d4ebff;}#sk-container-id-8 div.sk-serial::before {content: \"\";position: absolute;border-left: 1px solid gray;box-sizing: border-box;top: 0;bottom: 0;left: 50%;z-index: 0;}#sk-container-id-8 div.sk-serial {display: flex;flex-direction: column;align-items: center;background-color: white;padding-right: 0.2em;padding-left: 0.2em;position: relative;}#sk-container-id-8 div.sk-item {position: relative;z-index: 1;}#sk-container-id-8 div.sk-parallel {display: flex;align-items: stretch;justify-content: center;background-color: white;position: relative;}#sk-container-id-8 div.sk-item::before, #sk-container-id-8 div.sk-parallel-item::before {content: \"\";position: absolute;border-left: 1px solid gray;box-sizing: border-box;top: 0;bottom: 0;left: 50%;z-index: -1;}#sk-container-id-8 div.sk-parallel-item {display: flex;flex-direction: column;z-index: 1;position: relative;background-color: white;}#sk-container-id-8 div.sk-parallel-item:first-child::after {align-self: flex-end;width: 50%;}#sk-container-id-8 div.sk-parallel-item:last-child::after {align-self: flex-start;width: 50%;}#sk-container-id-8 div.sk-parallel-item:only-child::after {width: 0;}#sk-container-id-8 div.sk-dashed-wrapped {border: 1px dashed gray;margin: 0 0.4em 0.5em 0.4em;box-sizing: border-box;padding-bottom: 0.4em;background-color: white;}#sk-container-id-8 div.sk-label label {font-family: monospace;font-weight: bold;display: inline-block;line-height: 1.2em;}#sk-container-id-8 div.sk-label-container {text-align: center;}#sk-container-id-8 div.sk-container {/* jupyter's `normalize.less` sets `[hidden] { display: none; }` but bootstrap.min.css set `[hidden] { display: none !important; }` so we also need the `!important` here to be able to override the default hidden behavior on the sphinx rendered scikit-learn.org. See: https://github.com/scikit-learn/scikit-learn/issues/21755 */display: inline-block !important;position: relative;}#sk-container-id-8 div.sk-text-repr-fallback {display: none;}</style><div id=\"sk-container-id-8\" class=\"sk-top-container\"><div class=\"sk-text-repr-fallback\"><pre>RandomizedSearchCV(cv=5,\n",
       "                   estimator=XGBRegressor(base_score=None, booster=None,\n",
       "                                          callbacks=None,\n",
       "                                          colsample_bylevel=None,\n",
       "                                          colsample_bynode=None,\n",
       "                                          colsample_bytree=None, device=None,\n",
       "                                          early_stopping_rounds=None,\n",
       "                                          enable_categorical=False,\n",
       "                                          eval_metric=None, feature_types=None,\n",
       "                                          gamma=None, grow_policy=None,\n",
       "                                          importance_type=None,\n",
       "                                          interaction_constraints=None,\n",
       "                                          learning_rate=...\n",
       "                                          max_cat_to_onehot=None,\n",
       "                                          max_delta_step=None, max_depth=None,\n",
       "                                          max_leaves=None,\n",
       "                                          min_child_weight=None, missing=nan,\n",
       "                                          monotone_constraints=None,\n",
       "                                          multi_strategy=None,\n",
       "                                          n_estimators=None, n_jobs=None,\n",
       "                                          num_parallel_tree=None,\n",
       "                                          random_state=None, ...),\n",
       "                   n_iter=5,\n",
       "                   param_distributions={&#x27;learning_rate&#x27;: [0.1, 0.01, 0.001],\n",
       "                                        &#x27;n_estimators&#x27;: [50, 100, 150]},\n",
       "                   scoring=&#x27;neg_mean_absolute_error&#x27;)</pre><b>In a Jupyter environment, please rerun this cell to show the HTML representation or trust the notebook. <br />On GitHub, the HTML representation is unable to render, please try loading this page with nbviewer.org.</b></div><div class=\"sk-container\" hidden><div class=\"sk-item sk-dashed-wrapped\"><div class=\"sk-label-container\"><div class=\"sk-label sk-toggleable\"><input class=\"sk-toggleable__control sk-hidden--visually\" id=\"sk-estimator-id-12\" type=\"checkbox\" ><label for=\"sk-estimator-id-12\" class=\"sk-toggleable__label sk-toggleable__label-arrow\">RandomizedSearchCV</label><div class=\"sk-toggleable__content\"><pre>RandomizedSearchCV(cv=5,\n",
       "                   estimator=XGBRegressor(base_score=None, booster=None,\n",
       "                                          callbacks=None,\n",
       "                                          colsample_bylevel=None,\n",
       "                                          colsample_bynode=None,\n",
       "                                          colsample_bytree=None, device=None,\n",
       "                                          early_stopping_rounds=None,\n",
       "                                          enable_categorical=False,\n",
       "                                          eval_metric=None, feature_types=None,\n",
       "                                          gamma=None, grow_policy=None,\n",
       "                                          importance_type=None,\n",
       "                                          interaction_constraints=None,\n",
       "                                          learning_rate=...\n",
       "                                          max_cat_to_onehot=None,\n",
       "                                          max_delta_step=None, max_depth=None,\n",
       "                                          max_leaves=None,\n",
       "                                          min_child_weight=None, missing=nan,\n",
       "                                          monotone_constraints=None,\n",
       "                                          multi_strategy=None,\n",
       "                                          n_estimators=None, n_jobs=None,\n",
       "                                          num_parallel_tree=None,\n",
       "                                          random_state=None, ...),\n",
       "                   n_iter=5,\n",
       "                   param_distributions={&#x27;learning_rate&#x27;: [0.1, 0.01, 0.001],\n",
       "                                        &#x27;n_estimators&#x27;: [50, 100, 150]},\n",
       "                   scoring=&#x27;neg_mean_absolute_error&#x27;)</pre></div></div></div><div class=\"sk-parallel\"><div class=\"sk-parallel-item\"><div class=\"sk-item\"><div class=\"sk-label-container\"><div class=\"sk-label sk-toggleable\"><input class=\"sk-toggleable__control sk-hidden--visually\" id=\"sk-estimator-id-13\" type=\"checkbox\" ><label for=\"sk-estimator-id-13\" class=\"sk-toggleable__label sk-toggleable__label-arrow\">estimator: XGBRegressor</label><div class=\"sk-toggleable__content\"><pre>XGBRegressor(base_score=None, booster=None, callbacks=None,\n",
       "             colsample_bylevel=None, colsample_bynode=None,\n",
       "             colsample_bytree=None, device=None, early_stopping_rounds=None,\n",
       "             enable_categorical=False, eval_metric=None, feature_types=None,\n",
       "             gamma=None, grow_policy=None, importance_type=None,\n",
       "             interaction_constraints=None, learning_rate=None, max_bin=None,\n",
       "             max_cat_threshold=None, max_cat_to_onehot=None,\n",
       "             max_delta_step=None, max_depth=None, max_leaves=None,\n",
       "             min_child_weight=None, missing=nan, monotone_constraints=None,\n",
       "             multi_strategy=None, n_estimators=None, n_jobs=None,\n",
       "             num_parallel_tree=None, random_state=None, ...)</pre></div></div></div><div class=\"sk-serial\"><div class=\"sk-item\"><div class=\"sk-estimator sk-toggleable\"><input class=\"sk-toggleable__control sk-hidden--visually\" id=\"sk-estimator-id-14\" type=\"checkbox\" ><label for=\"sk-estimator-id-14\" class=\"sk-toggleable__label sk-toggleable__label-arrow\">XGBRegressor</label><div class=\"sk-toggleable__content\"><pre>XGBRegressor(base_score=None, booster=None, callbacks=None,\n",
       "             colsample_bylevel=None, colsample_bynode=None,\n",
       "             colsample_bytree=None, device=None, early_stopping_rounds=None,\n",
       "             enable_categorical=False, eval_metric=None, feature_types=None,\n",
       "             gamma=None, grow_policy=None, importance_type=None,\n",
       "             interaction_constraints=None, learning_rate=None, max_bin=None,\n",
       "             max_cat_threshold=None, max_cat_to_onehot=None,\n",
       "             max_delta_step=None, max_depth=None, max_leaves=None,\n",
       "             min_child_weight=None, missing=nan, monotone_constraints=None,\n",
       "             multi_strategy=None, n_estimators=None, n_jobs=None,\n",
       "             num_parallel_tree=None, random_state=None, ...)</pre></div></div></div></div></div></div></div></div></div></div>"
      ],
      "text/plain": [
       "RandomizedSearchCV(cv=5,\n",
       "                   estimator=XGBRegressor(base_score=None, booster=None,\n",
       "                                          callbacks=None,\n",
       "                                          colsample_bylevel=None,\n",
       "                                          colsample_bynode=None,\n",
       "                                          colsample_bytree=None, device=None,\n",
       "                                          early_stopping_rounds=None,\n",
       "                                          enable_categorical=False,\n",
       "                                          eval_metric=None, feature_types=None,\n",
       "                                          gamma=None, grow_policy=None,\n",
       "                                          importance_type=None,\n",
       "                                          interaction_constraints=None,\n",
       "                                          learning_rate=...\n",
       "                                          max_cat_to_onehot=None,\n",
       "                                          max_delta_step=None, max_depth=None,\n",
       "                                          max_leaves=None,\n",
       "                                          min_child_weight=None, missing=nan,\n",
       "                                          monotone_constraints=None,\n",
       "                                          multi_strategy=None,\n",
       "                                          n_estimators=None, n_jobs=None,\n",
       "                                          num_parallel_tree=None,\n",
       "                                          random_state=None, ...),\n",
       "                   n_iter=5,\n",
       "                   param_distributions={'learning_rate': [0.1, 0.01, 0.001],\n",
       "                                        'n_estimators': [50, 100, 150]},\n",
       "                   scoring='neg_mean_absolute_error')"
      ]
     },
     "execution_count": 119,
     "metadata": {},
     "output_type": "execute_result"
    }
   ],
   "source": [
    "grid.fit(x_train, y_train)"
   ]
  },
  {
   "cell_type": "code",
   "execution_count": 121,
   "id": "2d567cc9",
   "metadata": {},
   "outputs": [
    {
     "data": {
      "text/plain": [
       "{'n_estimators': 150, 'learning_rate': 0.1}"
      ]
     },
     "execution_count": 121,
     "metadata": {},
     "output_type": "execute_result"
    }
   ],
   "source": [
    "grid.best_params_"
   ]
  },
  {
   "cell_type": "markdown",
   "id": "296e7d32",
   "metadata": {},
   "source": [
    "Probamos los nuevos hiperparámetros:"
   ]
  },
  {
   "cell_type": "code",
   "execution_count": 99,
   "id": "eed5b530",
   "metadata": {},
   "outputs": [],
   "source": [
    "xgb = XGBRegressor(n_estimators= 150, learning_rate= 0.1, random_state= 142)"
   ]
  },
  {
   "cell_type": "code",
   "execution_count": 100,
   "id": "640e0137",
   "metadata": {},
   "outputs": [
    {
     "data": {
      "text/html": [
       "<style>#sk-container-id-5 {color: black;}#sk-container-id-5 pre{padding: 0;}#sk-container-id-5 div.sk-toggleable {background-color: white;}#sk-container-id-5 label.sk-toggleable__label {cursor: pointer;display: block;width: 100%;margin-bottom: 0;padding: 0.3em;box-sizing: border-box;text-align: center;}#sk-container-id-5 label.sk-toggleable__label-arrow:before {content: \"▸\";float: left;margin-right: 0.25em;color: #696969;}#sk-container-id-5 label.sk-toggleable__label-arrow:hover:before {color: black;}#sk-container-id-5 div.sk-estimator:hover label.sk-toggleable__label-arrow:before {color: black;}#sk-container-id-5 div.sk-toggleable__content {max-height: 0;max-width: 0;overflow: hidden;text-align: left;background-color: #f0f8ff;}#sk-container-id-5 div.sk-toggleable__content pre {margin: 0.2em;color: black;border-radius: 0.25em;background-color: #f0f8ff;}#sk-container-id-5 input.sk-toggleable__control:checked~div.sk-toggleable__content {max-height: 200px;max-width: 100%;overflow: auto;}#sk-container-id-5 input.sk-toggleable__control:checked~label.sk-toggleable__label-arrow:before {content: \"▾\";}#sk-container-id-5 div.sk-estimator input.sk-toggleable__control:checked~label.sk-toggleable__label {background-color: #d4ebff;}#sk-container-id-5 div.sk-label input.sk-toggleable__control:checked~label.sk-toggleable__label {background-color: #d4ebff;}#sk-container-id-5 input.sk-hidden--visually {border: 0;clip: rect(1px 1px 1px 1px);clip: rect(1px, 1px, 1px, 1px);height: 1px;margin: -1px;overflow: hidden;padding: 0;position: absolute;width: 1px;}#sk-container-id-5 div.sk-estimator {font-family: monospace;background-color: #f0f8ff;border: 1px dotted black;border-radius: 0.25em;box-sizing: border-box;margin-bottom: 0.5em;}#sk-container-id-5 div.sk-estimator:hover {background-color: #d4ebff;}#sk-container-id-5 div.sk-parallel-item::after {content: \"\";width: 100%;border-bottom: 1px solid gray;flex-grow: 1;}#sk-container-id-5 div.sk-label:hover label.sk-toggleable__label {background-color: #d4ebff;}#sk-container-id-5 div.sk-serial::before {content: \"\";position: absolute;border-left: 1px solid gray;box-sizing: border-box;top: 0;bottom: 0;left: 50%;z-index: 0;}#sk-container-id-5 div.sk-serial {display: flex;flex-direction: column;align-items: center;background-color: white;padding-right: 0.2em;padding-left: 0.2em;position: relative;}#sk-container-id-5 div.sk-item {position: relative;z-index: 1;}#sk-container-id-5 div.sk-parallel {display: flex;align-items: stretch;justify-content: center;background-color: white;position: relative;}#sk-container-id-5 div.sk-item::before, #sk-container-id-5 div.sk-parallel-item::before {content: \"\";position: absolute;border-left: 1px solid gray;box-sizing: border-box;top: 0;bottom: 0;left: 50%;z-index: -1;}#sk-container-id-5 div.sk-parallel-item {display: flex;flex-direction: column;z-index: 1;position: relative;background-color: white;}#sk-container-id-5 div.sk-parallel-item:first-child::after {align-self: flex-end;width: 50%;}#sk-container-id-5 div.sk-parallel-item:last-child::after {align-self: flex-start;width: 50%;}#sk-container-id-5 div.sk-parallel-item:only-child::after {width: 0;}#sk-container-id-5 div.sk-dashed-wrapped {border: 1px dashed gray;margin: 0 0.4em 0.5em 0.4em;box-sizing: border-box;padding-bottom: 0.4em;background-color: white;}#sk-container-id-5 div.sk-label label {font-family: monospace;font-weight: bold;display: inline-block;line-height: 1.2em;}#sk-container-id-5 div.sk-label-container {text-align: center;}#sk-container-id-5 div.sk-container {/* jupyter's `normalize.less` sets `[hidden] { display: none; }` but bootstrap.min.css set `[hidden] { display: none !important; }` so we also need the `!important` here to be able to override the default hidden behavior on the sphinx rendered scikit-learn.org. See: https://github.com/scikit-learn/scikit-learn/issues/21755 */display: inline-block !important;position: relative;}#sk-container-id-5 div.sk-text-repr-fallback {display: none;}</style><div id=\"sk-container-id-5\" class=\"sk-top-container\"><div class=\"sk-text-repr-fallback\"><pre>XGBRegressor(base_score=None, booster=None, callbacks=None,\n",
       "             colsample_bylevel=None, colsample_bynode=None,\n",
       "             colsample_bytree=None, device=None, early_stopping_rounds=None,\n",
       "             enable_categorical=False, eval_metric=None, feature_types=None,\n",
       "             gamma=None, grow_policy=None, importance_type=None,\n",
       "             interaction_constraints=None, learning_rate=0.1, max_bin=None,\n",
       "             max_cat_threshold=None, max_cat_to_onehot=None,\n",
       "             max_delta_step=None, max_depth=None, max_leaves=None,\n",
       "             min_child_weight=None, missing=nan, monotone_constraints=None,\n",
       "             multi_strategy=None, n_estimators=150, n_jobs=None,\n",
       "             num_parallel_tree=None, random_state=142, ...)</pre><b>In a Jupyter environment, please rerun this cell to show the HTML representation or trust the notebook. <br />On GitHub, the HTML representation is unable to render, please try loading this page with nbviewer.org.</b></div><div class=\"sk-container\" hidden><div class=\"sk-item\"><div class=\"sk-estimator sk-toggleable\"><input class=\"sk-toggleable__control sk-hidden--visually\" id=\"sk-estimator-id-5\" type=\"checkbox\" checked><label for=\"sk-estimator-id-5\" class=\"sk-toggleable__label sk-toggleable__label-arrow\">XGBRegressor</label><div class=\"sk-toggleable__content\"><pre>XGBRegressor(base_score=None, booster=None, callbacks=None,\n",
       "             colsample_bylevel=None, colsample_bynode=None,\n",
       "             colsample_bytree=None, device=None, early_stopping_rounds=None,\n",
       "             enable_categorical=False, eval_metric=None, feature_types=None,\n",
       "             gamma=None, grow_policy=None, importance_type=None,\n",
       "             interaction_constraints=None, learning_rate=0.1, max_bin=None,\n",
       "             max_cat_threshold=None, max_cat_to_onehot=None,\n",
       "             max_delta_step=None, max_depth=None, max_leaves=None,\n",
       "             min_child_weight=None, missing=nan, monotone_constraints=None,\n",
       "             multi_strategy=None, n_estimators=150, n_jobs=None,\n",
       "             num_parallel_tree=None, random_state=142, ...)</pre></div></div></div></div></div>"
      ],
      "text/plain": [
       "XGBRegressor(base_score=None, booster=None, callbacks=None,\n",
       "             colsample_bylevel=None, colsample_bynode=None,\n",
       "             colsample_bytree=None, device=None, early_stopping_rounds=None,\n",
       "             enable_categorical=False, eval_metric=None, feature_types=None,\n",
       "             gamma=None, grow_policy=None, importance_type=None,\n",
       "             interaction_constraints=None, learning_rate=0.1, max_bin=None,\n",
       "             max_cat_threshold=None, max_cat_to_onehot=None,\n",
       "             max_delta_step=None, max_depth=None, max_leaves=None,\n",
       "             min_child_weight=None, missing=nan, monotone_constraints=None,\n",
       "             multi_strategy=None, n_estimators=150, n_jobs=None,\n",
       "             num_parallel_tree=None, random_state=142, ...)"
      ]
     },
     "execution_count": 100,
     "metadata": {},
     "output_type": "execute_result"
    }
   ],
   "source": [
    "xgb.fit(x_train, y_train)"
   ]
  },
  {
   "cell_type": "code",
   "execution_count": 101,
   "id": "7ea06395",
   "metadata": {},
   "outputs": [],
   "source": [
    "pred = xgb.predict(x_train)"
   ]
  },
  {
   "cell_type": "code",
   "execution_count": 102,
   "id": "5985070b",
   "metadata": {},
   "outputs": [
    {
     "data": {
      "text/plain": [
       "0.30609049062040683"
      ]
     },
     "execution_count": 102,
     "metadata": {},
     "output_type": "execute_result"
    }
   ],
   "source": [
    "mean_absolute_error(y_train, pred)"
   ]
  },
  {
   "cell_type": "code",
   "execution_count": 103,
   "id": "7804decb",
   "metadata": {},
   "outputs": [],
   "source": [
    "pred = xgb.predict(x_test)"
   ]
  },
  {
   "cell_type": "code",
   "execution_count": 104,
   "id": "a870b720",
   "metadata": {},
   "outputs": [
    {
     "data": {
      "text/plain": [
       "0.3246923168719821"
      ]
     },
     "execution_count": 104,
     "metadata": {},
     "output_type": "execute_result"
    }
   ],
   "source": [
    "mean_absolute_error(y_test, pred)"
   ]
  },
  {
   "cell_type": "markdown",
   "id": "a1dc53f4",
   "metadata": {},
   "source": [
    "El resultado no mejora demasiado."
   ]
  },
  {
   "cell_type": "code",
   "execution_count": 105,
   "id": "c525a874",
   "metadata": {},
   "outputs": [
    {
     "data": {
      "text/html": [
       "<div>\n",
       "<style scoped>\n",
       "    .dataframe tbody tr th:only-of-type {\n",
       "        vertical-align: middle;\n",
       "    }\n",
       "\n",
       "    .dataframe tbody tr th {\n",
       "        vertical-align: top;\n",
       "    }\n",
       "\n",
       "    .dataframe thead th {\n",
       "        text-align: right;\n",
       "    }\n",
       "</style>\n",
       "<table border=\"1\" class=\"dataframe\">\n",
       "  <thead>\n",
       "    <tr style=\"text-align: right;\">\n",
       "      <th></th>\n",
       "      <th>variables</th>\n",
       "      <th>importancia</th>\n",
       "    </tr>\n",
       "  </thead>\n",
       "  <tbody>\n",
       "    <tr>\n",
       "      <th>22</th>\n",
       "      <td>room_type_Entire home/apt</td>\n",
       "      <td>0.744138</td>\n",
       "    </tr>\n",
       "    <tr>\n",
       "      <th>1</th>\n",
       "      <td>bathrooms</td>\n",
       "      <td>0.043109</td>\n",
       "    </tr>\n",
       "    <tr>\n",
       "      <th>40</th>\n",
       "      <td>city_SF</td>\n",
       "      <td>0.024916</td>\n",
       "    </tr>\n",
       "    <tr>\n",
       "      <th>23</th>\n",
       "      <td>room_type_Private room</td>\n",
       "      <td>0.021183</td>\n",
       "    </tr>\n",
       "    <tr>\n",
       "      <th>38</th>\n",
       "      <td>city_LA</td>\n",
       "      <td>0.015847</td>\n",
       "    </tr>\n",
       "  </tbody>\n",
       "</table>\n",
       "</div>"
      ],
      "text/plain": [
       "                    variables  importancia\n",
       "22  room_type_Entire home/apt     0.744138\n",
       "1                   bathrooms     0.043109\n",
       "40                    city_SF     0.024916\n",
       "23     room_type_Private room     0.021183\n",
       "38                    city_LA     0.015847"
      ]
     },
     "execution_count": 105,
     "metadata": {},
     "output_type": "execute_result"
    }
   ],
   "source": [
    "pd.DataFrame({'variables': x.columns, 'importancia': xgb.feature_importances_}).sort_values('importancia', ascending=False).head(5)"
   ]
  },
  {
   "cell_type": "markdown",
   "id": "5d7093b3",
   "metadata": {},
   "source": [
    "# Conclusiones"
   ]
  },
  {
   "cell_type": "markdown",
   "id": "6f4dee97",
   "metadata": {},
   "source": [
    "Si bien en los conjuntos de testeo los tres algoritmos tuvieron practicamente la misma precisión, los modelos basados en ensambles tipo boosting (Gradient Boosting y XGBoost) mostraron una menor tendencia a overfitear (los resultados en los conjuntos de entrenamiento y testeo fueron similares). Esto nos demuestra que estos modelos son capaces de generalizar mejor que el modelo de random forest. En este último, los resultados del conjunto de entrenamiento son mejores que en los de testeo. En nuestra primera prueba el overfitting era bastante claro en este modelo, aunque luego mejoró con la optimización de hiperparámetros. \n",
    "\n",
    "Por otra parte, los tres modelos nos mostraron la predominancia de una variable explicativa: el tipo de habitación. Como hemos visto durante nuestro EDA, los alquileres que se realizan sobre una casa entera tienen un precio superior a los que alquilan una sola habitación (sea esta privada o compartida). En segundo rango de importancia, la cantidad de baños aparece reflejada en los tres modelos. Según vimos en nuestro EDA la relación entre el precio y el número de baños es directa, cuando aumenta uno también lo hace la otra. Es posible que los alojamientos con más de un baño sean más caros que los que solo tienen uno. \n",
    "\n",
    "Las dos variables mencionadas representan un 60% de explicación del modelo en Random Forest, un 68% en Gradient Boosting y un 78% en XGBoost. En los modelos también se repiten, en menor grado de importancia, las ciudades de San Francisco (SF) y Los Ángeles (LA). Según nuestro EDA, SF tiene precios superiores a otras ciudades mientras que LA se muestra con precios más bajos."
   ]
  }
 ],
 "metadata": {
  "kernelspec": {
   "display_name": "Python 3 (ipykernel)",
   "language": "python",
   "name": "python3"
  },
  "language_info": {
   "codemirror_mode": {
    "name": "ipython",
    "version": 3
   },
   "file_extension": ".py",
   "mimetype": "text/x-python",
   "name": "python",
   "nbconvert_exporter": "python",
   "pygments_lexer": "ipython3",
   "version": "3.9.13"
  }
 },
 "nbformat": 4,
 "nbformat_minor": 5
}
